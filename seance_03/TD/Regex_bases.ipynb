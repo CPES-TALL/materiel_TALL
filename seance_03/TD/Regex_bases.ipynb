{
 "cells": [
  {
   "cell_type": "markdown",
   "id": "3f5457b7-20d7-4f42-8869-c21f78e3aca9",
   "metadata": {},
   "source": [
    "# 📝 **Les Regex en Python (Module `re`)**  \n",
    "\n",
    "📚 **Ressources utiles :**\n",
    "- [Regex101](https://regex101.com/) : Testez vos regex en ligne\n",
    "- [Python `re` module](https://docs.python.org/3/library/re.html)\n",
    "---\n",
    "\n",
    "## 🚀 **Introduction aux Regex en Python**  \n",
    "\n",
    "Python fournit le module **`re`** pour manipuler les **expressions régulières**.  \n",
    "Nous allons voir comment utiliser les principales fonctions de ce module :\n",
    "\n",
    "| Fonction | Description |\n",
    "|----------|------------|\n",
    "| `re.search()` | Trouve la première occurrence d'un motif dans un texte |\n",
    "| `re.match()` | Vérifie si un motif est présent au début du texte |\n",
    "| `re.findall()` | Trouve toutes les occurrences d'un motif |\n",
    "| `re.sub()` | Remplace un motif par une autre chaîne |\n",
    "| `re.split()` | Découpe un texte selon un motif |\n",
    "| `re.compile()` | Compile une expression régulière pour une utilisation répétée (optimise les performances) |\n",
    "\n",
    "✅ **`re.compile()`** est particulièrement utile lorsqu'un même motif **doit être utilisé plusieurs fois** dans le code, car il évite de recompiler la regex à chaque appel. 🚀"
   ]
  },
  {
   "cell_type": "code",
   "execution_count": 5,
   "id": "ff15d310-12ce-42a7-bc2b-db4c4875cfcd",
   "metadata": {},
   "outputs": [],
   "source": [
    "import re"
   ]
  },
  {
   "cell_type": "code",
   "execution_count": 31,
   "id": "299f2dad-7638-4d1a-8367-8b6ee1290bd4",
   "metadata": {},
   "outputs": [],
   "source": [
    "texte = \"Emma serrait son châle contre ses épaules et se levait. Dans l’avenue, un jour vert rabattu par le feuillage éclairait la mousse rase qui craquait doucement sous ses pieds. Le soleil se couchait ; le ciel était rouge entre les branches, et les troncs pareils des arbres plantés en ligne droite semblaient une colonnade brune se détachant sur un fond d’or ;\""
   ]
  },
  {
   "cell_type": "code",
   "execution_count": null,
   "id": "1080dde8-62d4-45cb-9f38-c98361257bc5",
   "metadata": {},
   "outputs": [],
   "source": [
    "re.search(\"Emma\", texte)"
   ]
  },
  {
   "cell_type": "code",
   "execution_count": null,
   "id": "ca2a0d53-bb44-4ca2-a810-19d9ed5ce458",
   "metadata": {},
   "outputs": [],
   "source": [
    "res ="
   ]
  },
  {
   "cell_type": "code",
   "execution_count": null,
   "id": "46ef16cc-875d-49a5-bf86-2bfb71cfc5cc",
   "metadata": {},
   "outputs": [],
   "source": [
    "res.group()"
   ]
  },
  {
   "cell_type": "code",
   "execution_count": null,
   "id": "a7e6dced-a590-48de-a4a4-f254f24d0130",
   "metadata": {},
   "outputs": [],
   "source": [
    "res = re.match(\"\", texte)"
   ]
  },
  {
   "cell_type": "code",
   "execution_count": null,
   "id": "eb26f241-2dd5-4de3-b25a-e1d2e1168a94",
   "metadata": {},
   "outputs": [],
   "source": [
    "re.findall('', texte)"
   ]
  },
  {
   "cell_type": "code",
   "execution_count": null,
   "id": "74ce54e5-cba3-436e-816e-87a25b653e2d",
   "metadata": {},
   "outputs": [],
   "source": [
    "re.sub(\"\", '', texte)"
   ]
  },
  {
   "cell_type": "code",
   "execution_count": null,
   "id": "81f0e58c-f796-4636-ba63-26e0347d42f5",
   "metadata": {},
   "outputs": [],
   "source": [
    "re.split(\"\", texte)"
   ]
  },
  {
   "cell_type": "markdown",
   "id": "fbc8a6f3-29a3-48be-a4fe-40d501f72287",
   "metadata": {},
   "source": [
    "\n",
    "### 🎭 Classes de Caractères  \n",
    "\n",
    "| Classe | Signification | Exemple |\n",
    "|--------|--------------|---------|\n",
    "| `.`  | N’importe quel caractère sauf retour à la ligne | `c.m` trouve `cam`, `com`, `cim` |\n",
    "| `\\d` | Un chiffre (0-9) | `\\d\\d` trouve `18` |\n",
    "| `\\w` | Un caractère alphanumérique (lettres, chiffres, underscore `_`) | `\\w\\w\\w` trouve `mot` |\n",
    "| `\\s` | Un espace (inclut tabulation et retour ligne) | `\\s\\s` trouve `  ` |\n",
    "| `\\b` | Une **limite de mot** (début ou fin) | `\\bchat\\b` trouve `\"chat\"` mais pas `\"chats\"` |\n",
    "\n",
    "✅ **`\\b`** est très utile pour s’assurer qu’un mot est **isolé** et éviter les faux positifs ! 🚀\n",
    "## ⚡ Les Quantificateurs \n",
    "\n",
    "| Quantificateur | Description | Exemple |\n",
    "|---------------|------------|---------|\n",
    "| `+`  | 1 fois ou plus | `a+` trouve `a`, `aaa` |\n",
    "| `*`  | 0 fois ou plus | `bo*n` trouve `bn`, `bon`, `boon` |\n",
    "| `?`  | 0 ou 1 fois | `l?a` trouve `a`, `la` |\n",
    "| `{n}`  | Exactement `n` fois | `o{2}` trouve `oo` |\n",
    "| `{n,}` | Au moins `n` fois | `o{2,}` trouve `oo`, `ooo` |\n",
    "\n",
    "#### 📝 **Exercice : Trouver tous les mots contenant au moins 3 lettres \"e\"**  \n",
    "Extrait :  \n",
    "> *Elle se leva et traversa lentement la pièce sombre.*\n",
    "\n",
    "**Solution regex** :  \n"
   ]
  },
  {
   "cell_type": "code",
   "execution_count": null,
   "id": "43859154-6225-42a8-bf18-2a34d9767584",
   "metadata": {},
   "outputs": [],
   "source": []
  },
  {
   "cell_type": "markdown",
   "id": "1c3a8148-f708-45ef-9808-bca4564c882e",
   "metadata": {},
   "source": [
    "___\n",
    "\n",
    "## Exercices\n",
    "Nous allons utiliser le **texte extrait d’un roman de Maigret** pour pratiquer les expressions régulières (`re` module) en Python.\n",
    "\n",
    "### **📌 Objectifs**\n",
    "- Utiliser `re.search()` pour rechercher un élément précis\n",
    "- Utiliser `re.match()` pour vérifier si une phrase commence par un motif\n",
    "- Utiliser `re.findall()` pour extraire **toutes les dates**\n",
    "- Utiliser `re.sub()` pour **découper les phrases** du texte\n"
   ]
  },
  {
   "cell_type": "code",
   "execution_count": 40,
   "id": "43c786ad-74a7-4dd1-8878-d1fca2372c71",
   "metadata": {
    "scrolled": true
   },
   "outputs": [
    {
     "name": "stdout",
     "output_type": "stream",
     "text": [
      "\n",
      "\n",
      "\n",
      "I  Avant d’ouvrir les yeux,\n"
     ]
    }
   ],
   "source": [
    "with open('corpus/1934_Simenon-Georges_Maigret.txt', encoding='utf-8') as f:\n",
    "    texte_simenon = f.read()\n",
    "    print(texte_simenon[:30])"
   ]
  },
  {
   "cell_type": "markdown",
   "id": "3e1436d1-d6d1-41af-8575-84e21d4eff0f",
   "metadata": {},
   "source": [
    "\n",
    "## Rechercher un Mot Spécifique avec `re.search()`\n",
    "📌 **Tâche :** Trouvez si le texte mentionne le nom `\"Philippe\"`.\n"
   ]
  },
  {
   "cell_type": "code",
   "execution_count": null,
   "id": "495bf4ec-d383-4bb3-afb9-12c6d7dd232b",
   "metadata": {},
   "outputs": [],
   "source": []
  },
  {
   "cell_type": "markdown",
   "id": "b8129b77-7eec-4165-a487-f124a188abb2",
   "metadata": {},
   "source": [
    "## Vérifier si le texte commence par un chiffre avec `re.match()`\n",
    "**Tâche :** Vérifiez si le texte commence par un chiffre romain (`I`, `II`, `III`...)."
   ]
  },
  {
   "cell_type": "code",
   "execution_count": null,
   "id": "503ac339-2bb4-4664-a13f-18bbc7c0daeb",
   "metadata": {},
   "outputs": [],
   "source": []
  },
  {
   "cell_type": "markdown",
   "id": "45657af8-f203-4231-8f3e-6b59fef17828",
   "metadata": {},
   "source": [
    "\n",
    "## Trouver Toutes les Dates avec `re.findall()`\n",
    "📌 **Tâche :** Trouvez toutes les dates de l’extrait (années écrites en **quatre chiffres**).\n"
   ]
  },
  {
   "cell_type": "code",
   "execution_count": null,
   "id": "0c0f9d94-52cf-4744-84e8-9d8048fc9aa2",
   "metadata": {},
   "outputs": [],
   "source": []
  },
  {
   "cell_type": "markdown",
   "id": "bda1042b-43d8-4711-8109-3205d1745330",
   "metadata": {},
   "source": [
    "### 📝 **Supprimer la ponctuation d’un texte**  "
   ]
  },
  {
   "cell_type": "code",
   "execution_count": null,
   "id": "25fb3afc-458f-41fd-986c-b3d73e3ecd0d",
   "metadata": {},
   "outputs": [],
   "source": []
  },
  {
   "cell_type": "markdown",
   "id": "80cf3d69-0dd0-4299-b4b7-7b9b6d906362",
   "metadata": {},
   "source": [
    "### 📝 **Découper un texte en phrases**  "
   ]
  },
  {
   "cell_type": "code",
   "execution_count": null,
   "id": "6d8f6a9d-4939-4741-8542-a172225c2029",
   "metadata": {},
   "outputs": [],
   "source": []
  },
  {
   "cell_type": "markdown",
   "id": "dc0c39c3-d7bc-4f7f-8a8c-844a4ad39cae",
   "metadata": {},
   "source": [
    "### 📝 **Extraire tous les mots valides d'un texte**  \n",
    "\n",
    "Note - \n",
    "\n",
    "la séquence\n",
    "\n",
    "- prog = re.compile(pattern)\n",
    "- result = prog.match(string)\n",
    "\n",
    "est équivalent à\n",
    "\n",
    "result = re.match(pattern, string)"
   ]
  },
  {
   "cell_type": "code",
   "execution_count": null,
   "id": "07212939-6e37-436d-b71c-c9da36816484",
   "metadata": {},
   "outputs": [],
   "source": []
  }
 ],
 "metadata": {
  "kernelspec": {
   "display_name": "Python (.tall)",
   "language": "python",
   "name": ".tall"
  },
  "language_info": {
   "codemirror_mode": {
    "name": "ipython",
    "version": 3
   },
   "file_extension": ".py",
   "mimetype": "text/x-python",
   "name": "python",
   "nbconvert_exporter": "python",
   "pygments_lexer": "ipython3",
   "version": "3.12.3"
  }
 },
 "nbformat": 4,
 "nbformat_minor": 5
}
