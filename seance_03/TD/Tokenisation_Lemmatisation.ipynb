{
 "cells": [
  {
   "cell_type": "markdown",
   "id": "1d2fef0d-cecd-4d22-abd8-049384b8ba66",
   "metadata": {},
   "source": [
    "# 📝 **Travaux Dirigés : Tokenisation et Lemmatisation avec spaCy**  \n",
    "\n",
    "## 🎯 Objectifs  \n",
    "Ce TD a pour but d’apprendre à **tokeniser et lemmatiser** un texte littéraire avec **spaCy**, une bibliothèque NLP très utilisée.  \n",
    "Nous travaillerons sur un extrait de texte pour voir comment les modèles NLP segmentent et analysent le langage.\n",
    "\n",
    "À la fin de ce TD, vous serez capable de :\n",
    "- Comprendre ce qu’est la **tokenisation**\n",
    "- Utiliser **spaCy** pour segmenter un texte en **tokens**\n",
    "- Appliquer la **lemmatisation** pour obtenir les formes de base des mots\n",
    "\n",
    "---\n",
    "\n",
    "## 🚀 **1. Introduction : Tokenisation et Lemmatisation**  \n",
    "\n",
    "### 🧩 **1.1. Qu’est-ce que la Tokenisation ?**  \n",
    "La **tokenisation** est l’opération qui consiste à diviser un texte en unités élémentaires appelées **tokens**.  \n",
    "Ces tokens peuvent être :\n",
    "- **Des mots** : \"Elle mange une pomme.\" → `[\"Elle\", \"mange\", \"une\", \"pomme\", \".\"]`\n",
    "- **Des signes de ponctuation** : `!`, `?`, `.` sont considérés comme des tokens\n",
    "- **Des clitiques** : \"J'aime\" peut être séparé en `[\"J\", \"'\", \"aime\"]`\n",
    "\n",
    "📌 **Problèmes à gérer :**  \n",
    "- La segmentation des **mots composés** (`arc-en-ciel` doit rester entier)\n",
    "- La gestion des **apostrophes** (`l'arbre` ne doit pas devenir `[\"l\", \"'\", \"arbre\"]`)\n",
    "\n",
    "---\n",
    "\n",
    "### 📌 **1.2. Qu’est-ce que la Lemmatisation ?**  \n",
    "La **lemmatisation** réduit un mot à sa forme canonique, telle qu’on la retrouve dans un dictionnaire.  \n",
    "- Exemples :\n",
    "  - *mange*, *mangerai*, *mangeons* → **\"manger\"**\n",
    "  - *chevaux*, *cheval* → **\"cheval\"**\n",
    "  - *étais*, *était*, *êtes* → **\"être\"**\n",
    "\n",
    "Cette opération est **utile pour** :\n",
    "- La **recherche d’informations** (`courir` doit trouver `courait`)\n",
    "- L’**analyse sémantique** (évite la dispersion des formes d’un même mot)\n",
    "- La **stylométrie** (comparer le vocabulaire d’auteurs différents)\n",
    "\n",
    "---\n",
    "\n",
    "## 🛠 **2. Installation et Chargement de spaCy**  \n",
    "\n",
    "### 📝 Installer et charger le modèle de langue**  \n",
    "Installez **spaCy** et téléchargez le modèle pour le français :  "
   ]
  },
  {
   "cell_type": "code",
   "execution_count": 5,
   "id": "1d65d0b8-0b6f-4814-ba92-a3b4106b0a94",
   "metadata": {},
   "outputs": [
    {
     "name": "stdout",
     "output_type": "stream",
     "text": [
      "Requirement already satisfied: spacy in /home/crazyjeannot/Documents/cours/2025/TALL_CPES/.tall/lib/python3.12/site-packages (3.8.4)\n",
      "Requirement already satisfied: spacy-legacy<3.1.0,>=3.0.11 in /home/crazyjeannot/Documents/cours/2025/TALL_CPES/.tall/lib/python3.12/site-packages (from spacy) (3.0.12)\n",
      "Requirement already satisfied: spacy-loggers<2.0.0,>=1.0.0 in /home/crazyjeannot/Documents/cours/2025/TALL_CPES/.tall/lib/python3.12/site-packages (from spacy) (1.0.5)\n",
      "Requirement already satisfied: murmurhash<1.1.0,>=0.28.0 in /home/crazyjeannot/Documents/cours/2025/TALL_CPES/.tall/lib/python3.12/site-packages (from spacy) (1.0.12)\n",
      "Requirement already satisfied: cymem<2.1.0,>=2.0.2 in /home/crazyjeannot/Documents/cours/2025/TALL_CPES/.tall/lib/python3.12/site-packages (from spacy) (2.0.11)\n",
      "Requirement already satisfied: preshed<3.1.0,>=3.0.2 in /home/crazyjeannot/Documents/cours/2025/TALL_CPES/.tall/lib/python3.12/site-packages (from spacy) (3.0.9)\n",
      "Requirement already satisfied: thinc<8.4.0,>=8.3.4 in /home/crazyjeannot/Documents/cours/2025/TALL_CPES/.tall/lib/python3.12/site-packages (from spacy) (8.3.4)\n",
      "Requirement already satisfied: wasabi<1.2.0,>=0.9.1 in /home/crazyjeannot/Documents/cours/2025/TALL_CPES/.tall/lib/python3.12/site-packages (from spacy) (1.1.3)\n",
      "Requirement already satisfied: srsly<3.0.0,>=2.4.3 in /home/crazyjeannot/Documents/cours/2025/TALL_CPES/.tall/lib/python3.12/site-packages (from spacy) (2.5.1)\n",
      "Requirement already satisfied: catalogue<2.1.0,>=2.0.6 in /home/crazyjeannot/Documents/cours/2025/TALL_CPES/.tall/lib/python3.12/site-packages (from spacy) (2.0.10)\n",
      "Requirement already satisfied: weasel<0.5.0,>=0.1.0 in /home/crazyjeannot/Documents/cours/2025/TALL_CPES/.tall/lib/python3.12/site-packages (from spacy) (0.4.1)\n",
      "Requirement already satisfied: typer<1.0.0,>=0.3.0 in /home/crazyjeannot/Documents/cours/2025/TALL_CPES/.tall/lib/python3.12/site-packages (from spacy) (0.15.1)\n",
      "Requirement already satisfied: tqdm<5.0.0,>=4.38.0 in /home/crazyjeannot/Documents/cours/2025/TALL_CPES/.tall/lib/python3.12/site-packages (from spacy) (4.67.1)\n",
      "Requirement already satisfied: numpy>=1.19.0 in /home/crazyjeannot/Documents/cours/2025/TALL_CPES/.tall/lib/python3.12/site-packages (from spacy) (2.2.2)\n",
      "Requirement already satisfied: requests<3.0.0,>=2.13.0 in /home/crazyjeannot/Documents/cours/2025/TALL_CPES/.tall/lib/python3.12/site-packages (from spacy) (2.32.3)\n",
      "Requirement already satisfied: pydantic!=1.8,!=1.8.1,<3.0.0,>=1.7.4 in /home/crazyjeannot/Documents/cours/2025/TALL_CPES/.tall/lib/python3.12/site-packages (from spacy) (2.10.6)\n",
      "Requirement already satisfied: jinja2 in /home/crazyjeannot/Documents/cours/2025/TALL_CPES/.tall/lib/python3.12/site-packages (from spacy) (3.1.5)\n",
      "Requirement already satisfied: setuptools in /home/crazyjeannot/Documents/cours/2025/TALL_CPES/.tall/lib/python3.12/site-packages (from spacy) (75.8.0)\n",
      "Requirement already satisfied: packaging>=20.0 in /home/crazyjeannot/Documents/cours/2025/TALL_CPES/.tall/lib/python3.12/site-packages (from spacy) (24.2)\n",
      "Requirement already satisfied: langcodes<4.0.0,>=3.2.0 in /home/crazyjeannot/Documents/cours/2025/TALL_CPES/.tall/lib/python3.12/site-packages (from spacy) (3.5.0)\n",
      "Requirement already satisfied: language-data>=1.2 in /home/crazyjeannot/Documents/cours/2025/TALL_CPES/.tall/lib/python3.12/site-packages (from langcodes<4.0.0,>=3.2.0->spacy) (1.3.0)\n",
      "Requirement already satisfied: annotated-types>=0.6.0 in /home/crazyjeannot/Documents/cours/2025/TALL_CPES/.tall/lib/python3.12/site-packages (from pydantic!=1.8,!=1.8.1,<3.0.0,>=1.7.4->spacy) (0.7.0)\n",
      "Requirement already satisfied: pydantic-core==2.27.2 in /home/crazyjeannot/Documents/cours/2025/TALL_CPES/.tall/lib/python3.12/site-packages (from pydantic!=1.8,!=1.8.1,<3.0.0,>=1.7.4->spacy) (2.27.2)\n",
      "Requirement already satisfied: typing-extensions>=4.12.2 in /home/crazyjeannot/Documents/cours/2025/TALL_CPES/.tall/lib/python3.12/site-packages (from pydantic!=1.8,!=1.8.1,<3.0.0,>=1.7.4->spacy) (4.12.2)\n",
      "Requirement already satisfied: charset-normalizer<4,>=2 in /home/crazyjeannot/Documents/cours/2025/TALL_CPES/.tall/lib/python3.12/site-packages (from requests<3.0.0,>=2.13.0->spacy) (3.4.1)\n",
      "Requirement already satisfied: idna<4,>=2.5 in /home/crazyjeannot/Documents/cours/2025/TALL_CPES/.tall/lib/python3.12/site-packages (from requests<3.0.0,>=2.13.0->spacy) (3.10)\n",
      "Requirement already satisfied: urllib3<3,>=1.21.1 in /home/crazyjeannot/Documents/cours/2025/TALL_CPES/.tall/lib/python3.12/site-packages (from requests<3.0.0,>=2.13.0->spacy) (2.3.0)\n",
      "Requirement already satisfied: certifi>=2017.4.17 in /home/crazyjeannot/Documents/cours/2025/TALL_CPES/.tall/lib/python3.12/site-packages (from requests<3.0.0,>=2.13.0->spacy) (2024.12.14)\n",
      "Requirement already satisfied: blis<1.3.0,>=1.2.0 in /home/crazyjeannot/Documents/cours/2025/TALL_CPES/.tall/lib/python3.12/site-packages (from thinc<8.4.0,>=8.3.4->spacy) (1.2.0)\n",
      "Requirement already satisfied: confection<1.0.0,>=0.0.1 in /home/crazyjeannot/Documents/cours/2025/TALL_CPES/.tall/lib/python3.12/site-packages (from thinc<8.4.0,>=8.3.4->spacy) (0.1.5)\n",
      "Requirement already satisfied: click>=8.0.0 in /home/crazyjeannot/Documents/cours/2025/TALL_CPES/.tall/lib/python3.12/site-packages (from typer<1.0.0,>=0.3.0->spacy) (8.1.8)\n",
      "Requirement already satisfied: shellingham>=1.3.0 in /home/crazyjeannot/Documents/cours/2025/TALL_CPES/.tall/lib/python3.12/site-packages (from typer<1.0.0,>=0.3.0->spacy) (1.5.4)\n",
      "Requirement already satisfied: rich>=10.11.0 in /home/crazyjeannot/Documents/cours/2025/TALL_CPES/.tall/lib/python3.12/site-packages (from typer<1.0.0,>=0.3.0->spacy) (13.9.4)\n",
      "Requirement already satisfied: cloudpathlib<1.0.0,>=0.7.0 in /home/crazyjeannot/Documents/cours/2025/TALL_CPES/.tall/lib/python3.12/site-packages (from weasel<0.5.0,>=0.1.0->spacy) (0.20.0)\n",
      "Requirement already satisfied: smart-open<8.0.0,>=5.2.1 in /home/crazyjeannot/Documents/cours/2025/TALL_CPES/.tall/lib/python3.12/site-packages (from weasel<0.5.0,>=0.1.0->spacy) (7.1.0)\n",
      "Requirement already satisfied: MarkupSafe>=2.0 in /home/crazyjeannot/Documents/cours/2025/TALL_CPES/.tall/lib/python3.12/site-packages (from jinja2->spacy) (3.0.2)\n",
      "Requirement already satisfied: marisa-trie>=1.1.0 in /home/crazyjeannot/Documents/cours/2025/TALL_CPES/.tall/lib/python3.12/site-packages (from language-data>=1.2->langcodes<4.0.0,>=3.2.0->spacy) (1.2.1)\n",
      "Requirement already satisfied: markdown-it-py>=2.2.0 in /home/crazyjeannot/Documents/cours/2025/TALL_CPES/.tall/lib/python3.12/site-packages (from rich>=10.11.0->typer<1.0.0,>=0.3.0->spacy) (3.0.0)\n",
      "Requirement already satisfied: pygments<3.0.0,>=2.13.0 in /home/crazyjeannot/Documents/cours/2025/TALL_CPES/.tall/lib/python3.12/site-packages (from rich>=10.11.0->typer<1.0.0,>=0.3.0->spacy) (2.19.1)\n",
      "Requirement already satisfied: wrapt in /home/crazyjeannot/Documents/cours/2025/TALL_CPES/.tall/lib/python3.12/site-packages (from smart-open<8.0.0,>=5.2.1->weasel<0.5.0,>=0.1.0->spacy) (1.17.2)\n",
      "Requirement already satisfied: mdurl~=0.1 in /home/crazyjeannot/Documents/cours/2025/TALL_CPES/.tall/lib/python3.12/site-packages (from markdown-it-py>=2.2.0->rich>=10.11.0->typer<1.0.0,>=0.3.0->spacy) (0.1.2)\n",
      "Collecting fr-core-news-sm==3.8.0\n",
      "  Using cached https://github.com/explosion/spacy-models/releases/download/fr_core_news_sm-3.8.0/fr_core_news_sm-3.8.0-py3-none-any.whl (16.3 MB)\n",
      "\u001b[38;5;2m✔ Download and installation successful\u001b[0m\n",
      "You can now load the package via spacy.load('fr_core_news_sm')\n"
     ]
    }
   ],
   "source": [
    "!pip install -U spacy\n",
    "!python -m spacy download fr_core_news_sm"
   ]
  },
  {
   "cell_type": "markdown",
   "id": "0df6d748-4e01-4c2e-a268-08e6ad2e3ef4",
   "metadata": {},
   "source": [
    "Puis importez **spaCy** et chargez le modèle :"
   ]
  },
  {
   "cell_type": "code",
   "execution_count": 6,
   "id": "605d0de0-2933-4a42-ae04-43b76a3ace19",
   "metadata": {},
   "outputs": [],
   "source": [
    "import spacy\n",
    "\n",
    "# Charger le modèle français\n",
    "nlp = spacy.load(\"fr_core_news_sm\")"
   ]
  },
  {
   "cell_type": "code",
   "execution_count": 7,
   "id": "e193e741-b05b-4835-a42f-d5efd09ff312",
   "metadata": {},
   "outputs": [],
   "source": [
    "texte = \"Elle lui rappelait, en manière de souvenirs, ses peines et ses sacrifices, et, les comparant aux négligences d’Emma, concluait qu’il n’était point raisonnable de l’adorer d’une façon si exclusive.Charles ne savait que répondre ; il respectait sa mère, et il aimait infiniment sa femme ; il considérait le jugement de l’une comme infaillible, et cependant il trouvait l’autre irréprochable. Quand madame Bovary était partie, il essayait de hasarder timidement, et dans les mêmes termes, une ou deux des plus anodines observations qu’il avait entendu faire à sa maman ; Emma, lui prouvant d’un mot qu’il se trompait, le renvoyait à ses malades.Cependant, d’après des théories qu’elle croyait bonnes, elle voulut se donner de l’amour. Au clair de lune, dans le jardin, elle récitait tout ce qu’elle savait par cœur de rimes passionnées et lui chantait en soupirant des adagios mélancoliques ; mais elle se trouvait ensuite aussi calme qu’auparavant, et Charles n’en paraissait ni plus amoureux ni plus remué.\""
   ]
  },
  {
   "cell_type": "code",
   "execution_count": 13,
   "id": "74f8a8e1-7ca1-462b-afbd-e6243ed96480",
   "metadata": {},
   "outputs": [
    {
     "name": "stdout",
     "output_type": "stream",
     "text": [
      "['Elle', 'lui', 'rappelait', ',', 'en', 'manière', 'de', 'souvenirs', ',', 'ses', 'peines', 'et', 'ses', 'sacrifices', ',', 'et', ',', 'les', 'comparant', 'aux', 'négligences', 'd’', 'Emma', ',', 'concluait', 'qu’', 'il', 'n’', 'était', 'point', 'raisonnable', 'de', 'l’', 'adorer', 'd’', 'une', 'façon', 'si', 'exclusive', '.', 'Charles', 'ne', 'savait', 'que', 'répondre', '\\xa0', ';', 'il', 'respectait', 'sa', 'mère', ',', 'et', 'il', 'aimait', 'infiniment', 'sa', 'femme', '\\xa0', ';', 'il', 'considérait', 'le', 'jugement', 'de', 'l’', 'une', 'comme', 'infaillible', ',', 'et', 'cependant', 'il', 'trouvait', 'l’', 'autre', 'irréprochable', '.', 'Quand', 'madame', 'Bovary', 'était', 'partie', ',', 'il', 'essayait', 'de', 'hasarder', 'timidement', ',', 'et', 'dans', 'les', 'mêmes', 'termes', ',', 'une', 'ou', 'deux', 'des', 'plus', 'anodines', 'observations', 'qu’', 'il', 'avait', 'entendu', 'faire', 'à', 'sa', 'maman', '\\xa0', ';', 'Emma', ',', 'lui', 'prouvant', 'd’', 'un', 'mot', 'qu’', 'il', 'se', 'trompait', ',', 'le', 'renvoyait', 'à', 'ses', 'malades', '.', 'Cependant', ',', 'd’', 'après', 'des', 'théories', 'qu’', 'elle', 'croyait', 'bonnes', ',', 'elle', 'voulut', 'se', 'donner', 'de', 'l’', 'amour', '.', 'Au', 'clair', 'de', 'lune', ',', 'dans', 'le', 'jardin', ',', 'elle', 'récitait', 'tout', 'ce', 'qu’', 'elle', 'savait', 'par', 'cœur', 'de', 'rimes', 'passionnées', 'et', 'lui', 'chantait', 'en', 'soupirant', 'des', 'adagios', 'mélancoliques', '\\xa0', ';', 'mais', 'elle', 'se', 'trouvait', 'ensuite', 'aussi', 'calme', 'qu’', 'auparavant', ',', 'et', 'Charles', 'n’', 'en', 'paraissait', 'ni', 'plus', 'amoureux', 'ni', 'plus', 'remué', '.']\n"
     ]
    }
   ],
   "source": [
    "# Appliquer la tokenisation\n",
    "doc = nlp(texte)\n",
    "\n",
    "# Afficher les tokens\n",
    "print([token.text for token in doc])"
   ]
  },
  {
   "cell_type": "code",
   "execution_count": null,
   "id": "dee9e6da-1add-4c05-b9ff-b9203b51f07c",
   "metadata": {},
   "outputs": [],
   "source": [
    "# Plus compliqué !\n",
    "texte2 = \"Un garde-chasse, guéri par Monsieur, d’une fluxion de poitrine, avait donné à Madame une petite levrette d’Italie ; elle la prenait pour se promener, car elle sortait quelquefois, afin d’être seule un instant et de n’avoir plus sous les yeux l’éternel jardin avec la route poudreuse.Elle allait jusqu’à la hétraie de Banneville, près du pavillon abandonné qui fait l’angle du mur, du côté des champs. Il y a dans le saut-de-loup, parmi les herbes, de longs roseaux à feuilles coupantes.Elle commençait par regarder tout alentour, pour voir si rien n’avait changé depuis la dernière fois qu’elle était venue. Elle retrouvait aux mêmes places les digitales et les ravenelles, les bouquets d’orties entourant les gros cailloux, et les plaques de lichen le long des trois fenêtres, dont les volets toujours clos s’égrenaient de pourriture, sur leurs barres de fer rouillées. Sa pensée, sans but d’abord, vagabondait au hasard, comme sa levrette, qui faisait des cercles dans la campagne, jappait après les papillons jaunes, donnait la chasse aux musaraignes ou mordillait les coquelicots sur le bord d’une pièce de blé. Puis ses idées peu à peu se fixaient, et, assise sur le gazon, qu’elle fouillait à petits coups avec le bout de son ombrelle, Emma se répétait :– Pourquoi, mon Dieu ! me suis-je mariée ?\""
   ]
  },
  {
   "cell_type": "code",
   "execution_count": null,
   "id": "4ece6c71-2d48-46ff-a38a-09fa8b93f43f",
   "metadata": {},
   "outputs": [],
   "source": [
    "# token.is_punct"
   ]
  },
  {
   "cell_type": "code",
   "execution_count": null,
   "id": "4243625d-8806-4deb-a6c3-36ae1427eed0",
   "metadata": {},
   "outputs": [],
   "source": []
  },
  {
   "cell_type": "markdown",
   "id": "e0b27337-6bfe-4a47-87f9-5257e99fbb74",
   "metadata": {},
   "source": [
    "## 🔍 **Affichage des Propriétés des Tokens**  \n",
    "\n",
    "Chaque token possède des informations supplémentaires :"
   ]
  },
  {
   "cell_type": "code",
   "execution_count": null,
   "id": "fdf4008d-5c2b-4f9c-8e0a-a8a7357927cf",
   "metadata": {},
   "outputs": [],
   "source": [
    "for token in doc:\n",
    "    print(f\"Texte : {token.text}, Type : {token.pos_}, Dépendance : {token.dep_}\")"
   ]
  },
  {
   "cell_type": "markdown",
   "id": "4d6bf93d-64bd-47d1-bf63-0e0d3e75d269",
   "metadata": {},
   "source": [
    "## 🌱 **5. Lemmatisation avec spaCy**  \n",
    "\n",
    "### 📝 ** Trouver les lemmes des mots**  \n",
    "Appliquons la lemmatisation au même extrait :"
   ]
  },
  {
   "cell_type": "code",
   "execution_count": null,
   "id": "4e7122d6-dd43-4711-9f95-4bb0d3451dab",
   "metadata": {},
   "outputs": [],
   "source": [
    "for token in doc:\n",
    "    print(f\"Mot : {token.text}, Lemme : {token.lemma_}\")"
   ]
  },
  {
   "cell_type": "code",
   "execution_count": null,
   "id": "6fb009f1-2b27-4a94-98ff-68a9dfcdb3c2",
   "metadata": {},
   "outputs": [],
   "source": []
  },
  {
   "cell_type": "markdown",
   "id": "28b4e17c-4f2f-4d49-9b31-873bcec0265d",
   "metadata": {},
   "source": [
    "🔍 **Remarque :**  \n",
    "Les noms propres (`Emma`) et les mots invariables (`de`, `en`) ne changent pas.\n",
    "\n",
    "---\n",
    "\n",
    "### 📝 **Exercice : Nettoyer et Lemmatiser un texte complet**  \n",
    "\n",
    "- Lire un fichier texte de votre choix\n",
    "- Filtrer les mots sans ponctuation\n",
    "- Récupérer les lemmes\n",
    "- Retourner une liste de lemmes, une liste de tokens "
   ]
  },
  {
   "cell_type": "code",
   "execution_count": null,
   "id": "17912f4d-973c-477c-ae28-38cd07fc9a27",
   "metadata": {},
   "outputs": [],
   "source": []
  },
  {
   "cell_type": "code",
   "execution_count": null,
   "id": "2d51ec58-e6e8-4eea-b622-956104f9f042",
   "metadata": {},
   "outputs": [],
   "source": []
  },
  {
   "cell_type": "code",
   "execution_count": null,
   "id": "091ccd67-8207-43e2-b2c2-5014b5264e35",
   "metadata": {},
   "outputs": [],
   "source": []
  },
  {
   "cell_type": "code",
   "execution_count": null,
   "id": "fdfd905d-ea17-4d8f-9925-d5da2b9678ed",
   "metadata": {},
   "outputs": [],
   "source": []
  },
  {
   "cell_type": "code",
   "execution_count": null,
   "id": "9f86f0c0-16b2-4fda-b940-5f58480009c7",
   "metadata": {},
   "outputs": [],
   "source": []
  },
  {
   "cell_type": "code",
   "execution_count": null,
   "id": "b91b5681-0b45-4d2e-912a-a1186f4b230a",
   "metadata": {},
   "outputs": [],
   "source": []
  },
  {
   "cell_type": "code",
   "execution_count": null,
   "id": "f2347718-f437-4a0f-b161-05ba784173d7",
   "metadata": {},
   "outputs": [],
   "source": []
  }
 ],
 "metadata": {
  "kernelspec": {
   "display_name": "Python (.tall)",
   "language": "python",
   "name": ".tall"
  },
  "language_info": {
   "codemirror_mode": {
    "name": "ipython",
    "version": 3
   },
   "file_extension": ".py",
   "mimetype": "text/x-python",
   "name": "python",
   "nbconvert_exporter": "python",
   "pygments_lexer": "ipython3",
   "version": "3.12.3"
  }
 },
 "nbformat": 4,
 "nbformat_minor": 5
}
