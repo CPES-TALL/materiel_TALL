{
 "cells": [
  {
   "cell_type": "markdown",
   "id": "465b12b2-2d03-4fec-8a28-ffd9c711fe39",
   "metadata": {},
   "source": [
    "# 📝 **Travaux Dirigés : Analyse du TTR (Type Token Ratio) entre Deux Auteurs**\n",
    "\n",
    "## 🎯 Objectif  \n",
    "Dans cette partie du TD, vous allez travailler de manière plus autonome.  \n",
    "L’objectif est de **calculer le Type Token Ratio (TTR)** pour comparer **deux auteurs de genres différents** :\n",
    "- **Georges Simenon** (roman policier 🕵️)\n",
    "- **Delly** (roman sentimental 💕)\n",
    "\n",
    "### 🔍 **Qu’est-ce que le Type Token Ratio (TTR) ?**  \n",
    "Le **TTR** est une mesure de diversité lexicale. Il se calcule ainsi :\n",
    "\n",
    "\\[\n",
    "TTR = \\frac{\\text{Nombre de types (mots uniques)}}{\\text{Nombre total de tokens (mots)}}\n",
    "\\]\n",
    "\n",
    "- **Un TTR élevé** signifie un vocabulaire **riche et varié**.\n",
    "- **Un TTR faible** signifie un texte avec **beaucoup de répétitions**.\n",
    "\n",
    "Nous allons comparer le **TTR moyen** des textes de **Simenon** et de **Delly** pour voir si leurs styles diffèrent.\n",
    "\n",
    "---\n",
    "\n",
    "## 📚 **Corpus : 10 Textes, 2 Auteurs**  \n",
    "Nous avons **5 textes par auteur**, soit un total de **10 fichiers** :\n",
    "\n",
    "📂 **Dossiers des textes** :\n",
    "```\n",
    "📁 corpus/\n",
    " ├── 📁 simenon/\n",
    " │   ├── simenon_1.txt\n",
    " │   ├── simenon_2.txt\n",
    " │   ├── simenon_3.txt\n",
    " │   ├── simenon_4.txt\n",
    " │   ├── simenon_5.txt\n",
    " ├── 📁 delly/\n",
    " │   ├── delly_1.txt\n",
    " │   ├── delly_2.txt\n",
    " │   ├── delly_3.txt\n",
    " │   ├── delly_4.txt\n",
    " │   ├── delly_5.txt\n",
    "```\n",
    "\n",
    "---\n",
    "\n",
    "## 🛠 **1. Fonction pour lire un texte**  \n",
    "Vous devez écrire une fonction qui **lit un fichier texte** et retourne son contenu sous forme de chaîne.\n"
   ]
  },
  {
   "cell_type": "code",
   "execution_count": null,
   "id": "54309c54-439b-4b73-9797-c70b974275da",
   "metadata": {},
   "outputs": [],
   "source": []
  },
  {
   "cell_type": "markdown",
   "id": "185b071d-3b96-4d73-94d6-e1fc33fea083",
   "metadata": {},
   "source": [
    "## 🔤 **2. Fonction pour calculer le TTR d’un texte**  \n",
    "Écrivez une fonction qui :\n",
    "1. **Tokenise** le texte en mots.\n",
    "2. **Compte le nombre total de tokens** (mots).\n",
    "3. **Compte le nombre de types** (lemmes).\n",
    "4. **Calcule le TTR** avec la formule :\n",
    "\n",
    "TTR = Nombre de types/Nombre total de tokens"
   ]
  },
  {
   "cell_type": "code",
   "execution_count": null,
   "id": "41de5b7a-03ea-4a43-ba60-ae6020f21c33",
   "metadata": {},
   "outputs": [],
   "source": []
  },
  {
   "cell_type": "markdown",
   "id": "5e80bfc5-caf2-45df-8a03-fdfcbda35456",
   "metadata": {},
   "source": [
    "\n",
    "## 🏆 **3. Fonction principale : Comparer le TTR entre Simenon et Delly**  \n",
    "\n",
    "### 📌 **Instructions :**\n",
    "- **Lisez** tous les textes d’un dossier.\n",
    "- **Calculez** le TTR pour chaque texte.\n",
    "- **Affichez les résultats individuels** et **la moyenne du TTR** par auteur.\n"
   ]
  },
  {
   "cell_type": "code",
   "execution_count": null,
   "id": "c9d7249f-dd42-4eb0-9395-025be3e51ae6",
   "metadata": {},
   "outputs": [],
   "source": []
  },
  {
   "cell_type": "markdown",
   "id": "31d351f7-19c8-4ebb-a935-cb9439bd2a8d",
   "metadata": {},
   "source": [
    "## 🏁 📊 **Analyse des Résultats**  \n",
    "\n",
    "Une fois les TTR calculés, analysez les résultats :\n",
    "1. **Quel auteur a le TTR le plus élevé ?**  \n",
    "   - Un TTR élevé signifie un vocabulaire **plus riche et varié**.\n",
    "   - Un TTR faible signifie **plus de répétitions**.\n",
    "\n",
    "2. **Le genre du texte influence-t-il le TTR ?**  \n",
    "   - Les romans sentimentaux utilisent-ils **plus de répétitions** que les romans policiers ?"
   ]
  },
  {
   "cell_type": "code",
   "execution_count": null,
   "id": "0e605629-e899-41c7-bac4-fe4cce41466e",
   "metadata": {},
   "outputs": [],
   "source": []
  }
 ],
 "metadata": {
  "kernelspec": {
   "display_name": "Python (.tall)",
   "language": "python",
   "name": ".tall"
  },
  "language_info": {
   "codemirror_mode": {
    "name": "ipython",
    "version": 3
   },
   "file_extension": ".py",
   "mimetype": "text/x-python",
   "name": "python",
   "nbconvert_exporter": "python",
   "pygments_lexer": "ipython3",
   "version": "3.12.3"
  }
 },
 "nbformat": 4,
 "nbformat_minor": 5
}
