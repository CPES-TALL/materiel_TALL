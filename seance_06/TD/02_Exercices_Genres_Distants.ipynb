{
 "cells": [
  {
   "cell_type": "markdown",
   "id": "92173cb3-8a14-4e2e-b2f0-07c6b1fcbe70",
   "metadata": {},
   "source": [
    "## Exercice : Analyse des genres littéraires\n",
    "\n",
    "**Restriction : Les fonctions lambda ne sont pas autorisées**\n",
    "\n",
    "L'objectif de cet exercice est d'évaluer les différences stylistiques entre les textes des genres du roman policier et celui du roman sentimental. \n",
    "\n",
    "---\n",
    "\n",
    "1. **Ouverture des fichiers :**\n",
    "   - Créer une fonction qui ouvre les fichiers `.txt` du dossier `data`, contenant 5 textes policiers et 5 textes sentimentaux.\n",
    "\n",
    "2. **Calcul des fréquences relatives :**\n",
    "   - Développer une fonction qui calcule la fréquence relative des N=100 mots les plus fréquents dans chaque texte (relative à la longueur du texte).\n",
    "   - La fonction doit retourner et sauvegarder le résultat sous la forme d'un dataframe (10 lignes = 10 textes, 100 colonnes = 100 mots).\n",
    "\n",
    "3. **Prise en compte des mots-outils :**\n",
    "   - Ajouter une fonction similaire, mais qui utilise le fichier `mots_outils_fr.json` (une liste des mots outils pour le français).\n",
    "   - Cette fonction doit ignorer les mots présents dans cette liste lors du calcul des fréquences.\n",
    "   - Vous pouvez améliorer ou adapter cette liste de mots-outils à votre convenance.\n",
    "\n",
    "4. **Calcul des distances cosinus :**\n",
    "   - Écrire une fonction qui calcule la distance cosinus entre chaque texte et la moyenne des textes de son genre respectif (le vecteur moyen du genre).\n",
    "   - La fonction doit retourner et sauvegarder les distances sous la forme d'un dataframe.\n",
    "\n",
    "5. **Interprétation des résultats :**\n",
    "   - Comparer les résultats obtenus avec et sans les mots-outils.\n",
    "   - Les textes sentimentaux se distinguent-ils plus clairement des policiers lorsque les mots-outils sont inclus ? Pour quelles raisons ? Quels cas limites ?\n",
    "\n",
    "6. **Bonus : Visualisation des résultats :**\n",
    "   - Créer des visualisations des distances calculées, comme :\n",
    "     - Une carte de chaleur (heatmap) des distances.\n",
    "     - Un nuage de points regroupant les textes par proximité stylistique.\n",
    "   - Justifiez votre choix de visualisation."
   ]
  },
  {
   "cell_type": "code",
   "execution_count": null,
   "id": "58b6613d-cbd2-41f3-9022-ea1eccf11a21",
   "metadata": {},
   "outputs": [],
   "source": []
  }
 ],
 "metadata": {
  "kernelspec": {
   "display_name": "Python (.tall)",
   "language": "python",
   "name": ".tall"
  },
  "language_info": {
   "codemirror_mode": {
    "name": "ipython",
    "version": 3
   },
   "file_extension": ".py",
   "mimetype": "text/x-python",
   "name": "python",
   "nbconvert_exporter": "python",
   "pygments_lexer": "ipython3",
   "version": "3.12.3"
  }
 },
 "nbformat": 4,
 "nbformat_minor": 5
}
