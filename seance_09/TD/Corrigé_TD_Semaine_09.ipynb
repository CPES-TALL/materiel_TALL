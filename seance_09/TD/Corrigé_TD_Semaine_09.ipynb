{
 "cells": [
  {
   "cell_type": "markdown",
   "id": "9451ada9-6a0b-430f-a5b1-c069e35afa55",
   "metadata": {},
   "source": [
    "# Correction détaillée du TD\n",
    "\n",
    "## Étape 1 : Lecture des données\n",
    "La fonction `read_booknlp` pour charger les données :\n"
   ]
  },
  {
   "cell_type": "code",
   "execution_count": 53,
   "id": "4f09dd0c-8eb2-487a-b86f-2ff04f1dd37e",
   "metadata": {},
   "outputs": [],
   "source": [
    "def read_booknlp(path_book):\n",
    "    with open(path_book, \"r\", encoding=\"utf-8\") as file:\n",
    "        lines = file.readlines()\n",
    "        # eval() transforme une chaîne de caractères représentant un dictionnaire en objet Python\n",
    "        dicts = [eval(line.strip()) for line in lines if line.strip()]\n",
    "    return dicts[:10]# On ne prends que les 10 premiers personnages pour un roman"
   ]
  },
  {
   "cell_type": "code",
   "execution_count": 54,
   "id": "2fa139e4-2d45-4a2c-a6ab-18af38227b90",
   "metadata": {},
   "outputs": [],
   "source": [
    "path = \"BOOK_FILES/1880_Zola-Emile_Nana.book\"\n",
    "book_nana = read_booknlp(path)"
   ]
  },
  {
   "cell_type": "markdown",
   "id": "b4485033-9b4d-412b-8116-11508732fd99",
   "metadata": {},
   "source": [
    "### Le premier personnage est donc bien Nana"
   ]
  },
  {
   "cell_type": "code",
   "execution_count": 55,
   "id": "bb4903f6-484a-453b-a542-9d99cc40d6f0",
   "metadata": {},
   "outputs": [
    {
     "data": {
      "text/plain": [
       "{'n': 'nana', 'c': 821}"
      ]
     },
     "execution_count": 55,
     "metadata": {},
     "output_type": "execute_result"
    }
   ],
   "source": [
    "book_nana[0][\"mentions\"]['proper'][0]"
   ]
  },
  {
   "cell_type": "code",
   "execution_count": 56,
   "id": "652d8508-72de-4baf-9ea9-dc741d7c0d2e",
   "metadata": {},
   "outputs": [
    {
     "data": {
      "text/plain": [
       "0.99"
      ]
     },
     "execution_count": 56,
     "metadata": {},
     "output_type": "execute_result"
    }
   ],
   "source": [
    "book_nana[0]['gender'][\"inference\"][\"Female\"]"
   ]
  },
  {
   "cell_type": "markdown",
   "id": "84c53baf-eb26-4d11-87a8-05347ebe0f73",
   "metadata": {},
   "source": [
    "### Lecture de tous nos fichiers book"
   ]
  },
  {
   "cell_type": "code",
   "execution_count": 43,
   "id": "1948b663-7f76-420b-9654-ec52c72f82a2",
   "metadata": {},
   "outputs": [],
   "source": [
    "import glob\n",
    "\n",
    "all_data = []\n",
    "chemin_fichiers = \"BOOK_FILES/*.book\"\n",
    "\n",
    "for path in glob.glob(chemin_fichiers):\n",
    "    data = read_booknlp(path)\n",
    "    all_data.extend(data)"
   ]
  },
  {
   "cell_type": "code",
   "execution_count": 44,
   "id": "dfa3694a-4f9e-425b-8e80-3067049ca5f2",
   "metadata": {},
   "outputs": [
    {
     "data": {
      "text/plain": [
       "1000"
      ]
     },
     "execution_count": 44,
     "metadata": {},
     "output_type": "execute_result"
    }
   ],
   "source": [
    "len(all_data)"
   ]
  },
  {
   "cell_type": "markdown",
   "id": "16099ecb-f554-4fe2-b7e6-69483efab27f",
   "metadata": {},
   "source": [
    "## Étape 2 : Extraction des verbes associés à chaque genre\n",
    "La fonction `get_characterization` pour obtenir les verbes liés aux personnages masculins et féminins :\n"
   ]
  },
  {
   "cell_type": "code",
   "execution_count": 45,
   "id": "63466904-22ad-4b28-b84b-c16f94960582",
   "metadata": {},
   "outputs": [],
   "source": [
    "def get_characterization(booknlp_data):\n",
    "    list_verb_suj_male, list_verb_suj_female = [], []\n",
    "    for i in range(len(booknlp_data)):\n",
    "        if booknlp_data[i]['gender'][\"inference\"][\"Female\"] > 0.8:\n",
    "            list_verb_suj_female.append([item['w'] for item in booknlp_data[i]['agent']])\n",
    "        elif booknlp_data[i]['gender'][\"inference\"][\"Male\"] > 0.8:\n",
    "            list_verb_suj_male.append([item['w'] for item in booknlp_data[i]['agent']])\n",
    "        else:\n",
    "            continue\n",
    "    return list_verb_suj_male, list_verb_suj_female"
   ]
  },
  {
   "cell_type": "markdown",
   "id": "99786750-e3a7-4bb1-a40c-4b31abc6fd10",
   "metadata": {},
   "source": [
    "### Pour Nana seulement"
   ]
  },
  {
   "cell_type": "code",
   "execution_count": 46,
   "id": "486ea345-b28e-4a91-b52f-86f4eda82896",
   "metadata": {},
   "outputs": [],
   "source": [
    "verbes_male, verbes_female = get_characterization(book_nana)"
   ]
  },
  {
   "cell_type": "markdown",
   "id": "d1d3d860-c105-409c-a0cb-c53ae8d017ec",
   "metadata": {},
   "source": [
    "### Pour tous nos fichiers book"
   ]
  },
  {
   "cell_type": "code",
   "execution_count": 47,
   "id": "ec0c6e3d-7c41-4a23-b66f-145963b9cb77",
   "metadata": {},
   "outputs": [],
   "source": [
    "verbes_male, verbes_female = get_characterization(all_data)"
   ]
  },
  {
   "cell_type": "code",
   "execution_count": null,
   "id": "9f19dd09-ca4b-46a2-80e9-f7b6793df912",
   "metadata": {},
   "outputs": [],
   "source": []
  },
  {
   "cell_type": "markdown",
   "id": "61f72726-bc0d-4e1e-9abe-cb576a73fefe",
   "metadata": {},
   "source": [
    "## Étape 3 : Calcul du score d'association pour chaque verbe fréquent\n",
    "On détermine les verbes fréquents (présents chez au moins 1 % des personnages). Ensuite, pour chaque verbe fréquent, on calcule les proportions d'apparition chez les personnages masculins et féminins avec la fonction `test_apparition_mot`"
   ]
  },
  {
   "cell_type": "code",
   "execution_count": 48,
   "id": "9b1a1a8b-f783-485c-9c50-91050c511740",
   "metadata": {},
   "outputs": [],
   "source": [
    "def test_apparition_mot(mot, verbes_masculins, verbes_feminins):\n",
    "    conteur_apparition_male, conteur_apparition_female = 0, 0\n",
    "    for liste_personnage in verbes_masculins:\n",
    "        if mot in liste_personnage:\n",
    "            conteur_apparition_male +=1\n",
    "\n",
    "    for liste_personnage in verbes_feminins:\n",
    "        if mot in liste_personnage:\n",
    "            conteur_apparition_female +=1\n",
    "    return conteur_apparition_male/len(verbes_masculins), conteur_apparition_female/len(verbes_female)"
   ]
  },
  {
   "cell_type": "code",
   "execution_count": 49,
   "id": "0f3cc279-b484-4b12-a3ef-83505b25d74f",
   "metadata": {},
   "outputs": [
    {
     "data": {
      "text/plain": [
       "(0.2815198618307427, 0.31715210355987056)"
      ]
     },
     "execution_count": 49,
     "metadata": {},
     "output_type": "execute_result"
    }
   ],
   "source": [
    "test_apparition_mot(\"courir\", verbes_male, verbes_female)"
   ]
  },
  {
   "cell_type": "code",
   "execution_count": 101,
   "id": "5630cabb-6997-4e0b-94b7-38348ce08448",
   "metadata": {},
   "outputs": [],
   "source": [
    "liste_verbes_frequents = [\"poursuivre\", \"découvrir\", \"tirer\", \"courir\", \"manger\", \"trouver\", \"adorer\", \"aimer\", 'rire', 'crier', \"danser\"]  # Remplacer par vos verbes fréquents\n",
    "scores_association = {}\n",
    "\n",
    "for verbe in liste_verbes_frequents:\n",
    "    prop_mas, prop_fem = test_apparition_mot(verbe, verbes_male, verbes_female)\n",
    "    score = (prop_fem - prop_mas) / (prop_mas + prop_fem) if (prop_mas + prop_fem) != 0 else 0\n",
    "    scores_association[verbe] = score"
   ]
  },
  {
   "cell_type": "code",
   "execution_count": 102,
   "id": "70117ba3-5507-45e6-b84f-aa8b4d846d79",
   "metadata": {},
   "outputs": [
    {
     "data": {
      "text/plain": [
       "{'poursuivre': -0.18734037412852908,\n",
       " 'découvrir': -0.01971418732782368,\n",
       " 'tirer': -0.15659918132536782,\n",
       " 'courir': 0.05951880794331007,\n",
       " 'manger': -0.10211677134217263,\n",
       " 'trouver': -0.02546147433607242,\n",
       " 'adorer': 0.11769318935875005,\n",
       " 'aimer': 0.05719125013514,\n",
       " 'rire': 0.05328163148068362,\n",
       " 'crier': -0.1304297597042514,\n",
       " 'danser': 0.3697993147332354}"
      ]
     },
     "execution_count": 102,
     "metadata": {},
     "output_type": "execute_result"
    }
   ],
   "source": [
    "scores_association"
   ]
  },
  {
   "cell_type": "markdown",
   "id": "cab69f39-6974-48df-be49-292a6b8986a1",
   "metadata": {},
   "source": [
    "## Étape 4 : Visualisation des résultats"
   ]
  },
  {
   "cell_type": "code",
   "execution_count": 103,
   "id": "8239cc2a-fb35-4086-86dc-991ad9fc7a0e",
   "metadata": {},
   "outputs": [
    {
     "data": {
      "image/png": "[encoded data removed]",
      "text/plain": [
       "<Figure size 1200x800 with 1 Axes>"
      ]
     },
     "metadata": {},
     "output_type": "display_data"
    }
   ],
   "source": [
    "import matplotlib.pyplot as plt\n",
    "\n",
    "sorted_verbs = sorted(scores_association.items(), key=lambda x: x[1])\n",
    "verbes, scores = zip(*sorted_verbs)\n",
    "\n",
    "plt.figure(figsize=(12, 8))\n",
    "plt.barh(verbes, scores, color=['blue' if x > 0 else 'pink' for x in scores])\n",
    "plt.xlabel(\"- = male ---------  Score d'association ---------- + = female\")\n",
    "plt.title(\"Association des verbes avec le genre\")\n",
    "plt.axvline(0, color='grey', linestyle='--')\n",
    "plt.show()"
   ]
  },
  {
   "cell_type": "code",
   "execution_count": null,
   "id": "681b5495-78ec-4518-970c-f0b2ed24bc46",
   "metadata": {},
   "outputs": [],
   "source": [
    "# + "
   ]
  },
  {
   "cell_type": "code",
   "execution_count": null,
   "id": "94af09e6-2c37-4041-b0da-3fa1e18d13d9",
   "metadata": {},
   "outputs": [],
   "source": []
  },
  {
   "cell_type": "code",
   "execution_count": null,
   "id": "c0f73f02-60c5-4d46-9c3d-9ea82360a63e",
   "metadata": {},
   "outputs": [],
   "source": []
  }
 ],
 "metadata": {
  "kernelspec": {
   "display_name": "Python 3 (ipykernel)",
   "language": "python",
   "name": "python3"
  },
  "language_info": {
   "codemirror_mode": {
    "name": "ipython",
    "version": 3
   },
   "file_extension": ".py",
   "mimetype": "text/x-python",
   "name": "python",
   "nbconvert_exporter": "python",
   "pygments_lexer": "ipython3",
   "version": "3.12.3"
  }
 },
 "nbformat": 4,
 "nbformat_minor": 5
}
