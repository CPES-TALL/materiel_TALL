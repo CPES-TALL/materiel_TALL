{
 "cells": [
  {
   "cell_type": "markdown",
   "id": "a2a9d9d5-0c89-40fa-90b2-219e52d24913",
   "metadata": {},
   "source": [
    "## Objectif du TD\n",
    "Identifier et visualiser les verbes les plus associés aux personnages masculins et féminins dans un corpus littéraire, en suivant une démarche descriptive sans méthodes prédictives.\n",
    "\n",
    "## Étapes à suivre \n",
    "\n",
    "### 1. Chargement des données\n",
    "- Charger les fichiers `.book` et combiner les informations en une seule structure de données.\n",
    "\n",
    "### 2. Identification du genre\n",
    "- Extraire clairement le genre (masculin ou féminin) de chaque personnage à partir des informations disponibles.\n",
    "\n",
    "### 3. Extraction des verbes\n",
    "- Pour chaque personnage, lister tous les verbes associés directement au personnage (actions réalisées par ce personnage).\n",
    "\n",
    "### 4. Calcul des proportions de verbes associés à chaque genre\n",
    "- Pour chaque verbe fréquent (présent chez au moins 1% des personnages du corpus), calculer :\n",
    "  - Le nombre de personnages masculins associés au verbe.\n",
    "  - Le nombre de personnages féminins associés au verbe.\n",
    "\n",
    "### 5. Calculer le score d'association détaillé\n",
    "- Pour chaque verbe, appliquer la formule suivante :\n",
    "\n",
    "\\[\n",
    "\\text{Score d'association} = \\frac{\\text{Nombre de personnages masculins associés au verbe} - \\text{Nombre de personnages féminins associés au verbe}}{\\text{Nombre de personnages masculins associés au verbe} + \\text{Nombre de personnages féminins associés au verbe}}\n",
    "\\]\n",
    "\n",
    "\n",
    "#### Explication détaillée du score\n",
    "- Un score positif indique que le verbe est davantage associé aux personnages masculins.\n",
    "- Un score négatif indique que le verbe est davantage associé aux personnages féminins.\n",
    "- Si le score est proche de 0, le verbe est associé de manière équilibrée aux deux genres.\n",
    "\n",
    "### 6. Visualisation\n",
    "- Créer un graphique à barres où les verbes seront ordonnés selon leur score d'association.\n",
    "- Utiliser des couleurs contrastées pour visualiser clairement la tendance masculine ou féminine des verbes.\n",
    "\n",
    "## Interprétation\n",
    "- Observer quels verbes sont typiquement associés aux personnages masculins ou féminins pour identifier les biais linguistiques liés au genre dans la littérature analysée.\n",
    "- Identifier clairement les tendances narratives et les stéréotypes potentiels présents dans le corpus."
   ]
  },
  {
   "cell_type": "code",
   "execution_count": null,
   "id": "ee2d7c77-f47e-48ac-b629-f2e9cddace2a",
   "metadata": {},
   "outputs": [],
   "source": []
  }
 ],
 "metadata": {
  "kernelspec": {
   "display_name": "Python 3 (ipykernel)",
   "language": "python",
   "name": "python3"
  },
  "language_info": {
   "codemirror_mode": {
    "name": "ipython",
    "version": 3
   },
   "file_extension": ".py",
   "mimetype": "text/x-python",
   "name": "python",
   "nbconvert_exporter": "python",
   "pygments_lexer": "ipython3",
   "version": "3.12.3"
  }
 },
 "nbformat": 4,
 "nbformat_minor": 5
}
