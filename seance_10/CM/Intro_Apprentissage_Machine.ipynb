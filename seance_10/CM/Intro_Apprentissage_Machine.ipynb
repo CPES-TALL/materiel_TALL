{
 "cells": [
  {
   "cell_type": "markdown",
   "metadata": {
    "id": "9grZTiabRbrS"
   },
   "source": [
    "# Introduction à l'apprentissage machine"
   ]
  },
  {
   "cell_type": "code",
   "execution_count": null,
   "metadata": {},
   "outputs": [],
   "source": [
    "!pip install scikit-learn"
   ]
  },
  {
   "cell_type": "code",
   "execution_count": 3,
   "metadata": {
    "id": "GxjnR8iOeT8A"
   },
   "outputs": [],
   "source": [
    "import pandas as pd\n",
    "import numpy as np\n",
    "from tqdm.notebook import tqdm\n",
    "import matplotlib.pyplot as plt\n",
    "import seaborn as sns"
   ]
  },
  {
   "cell_type": "markdown",
   "metadata": {},
   "source": [
    "**Cliquez sur le lien suivant pour télécharger les données**  \n",
    "[Télécharger le fichier](https://filesender.renater.fr/?s=download&token=9cd93b79-336c-4da8-8c3c-103f1e1dd817)"
   ]
  },
  {
   "cell_type": "code",
   "execution_count": 81,
   "metadata": {},
   "outputs": [],
   "source": [
    "df_main = pd.read_csv('MAIN_CANON_1000.csv')"
   ]
  },
  {
   "cell_type": "code",
   "execution_count": 5,
   "metadata": {
    "id": "wJwJ6ScBhHcD"
   },
   "outputs": [],
   "source": [
    "df_main.set_index(\"index\", inplace = True)\n",
    "df_main = df_main.replace(np.nan, 0)"
   ]
  },
  {
   "cell_type": "code",
   "execution_count": 6,
   "metadata": {
    "colab": {
     "base_uri": "https://localhost:8080/",
     "height": 874
    },
    "id": "RSxrK6usQFOI",
    "outputId": "553647fa-9dff-4753-d01f-90aea9d9d9fa"
   },
   "outputs": [
    {
     "data": {
      "text/html": [
       "<div>\n",
       "<style scoped>\n",
       "    .dataframe tbody tr th:only-of-type {\n",
       "        vertical-align: middle;\n",
       "    }\n",
       "\n",
       "    .dataframe tbody tr th {\n",
       "        vertical-align: top;\n",
       "    }\n",
       "\n",
       "    .dataframe thead th {\n",
       "        text-align: right;\n",
       "    }\n",
       "</style>\n",
       "<table border=\"1\" class=\"dataframe\">\n",
       "  <thead>\n",
       "    <tr style=\"text-align: right;\">\n",
       "      <th></th>\n",
       "      <th>le</th>\n",
       "      <th>de</th>\n",
       "      <th>un</th>\n",
       "      <th>et</th>\n",
       "      <th>il</th>\n",
       "      <th>avoir</th>\n",
       "      <th>à</th>\n",
       "      <th>lui</th>\n",
       "      <th>être</th>\n",
       "      <th>son</th>\n",
       "      <th>...</th>\n",
       "      <th>arrêté</th>\n",
       "      <th>chair</th>\n",
       "      <th>lueur</th>\n",
       "      <th>glace</th>\n",
       "      <th>colonel</th>\n",
       "      <th>île</th>\n",
       "      <th>énorme</th>\n",
       "      <th>pont</th>\n",
       "      <th>paysan</th>\n",
       "      <th>canon</th>\n",
       "    </tr>\n",
       "    <tr>\n",
       "      <th>index</th>\n",
       "      <th></th>\n",
       "      <th></th>\n",
       "      <th></th>\n",
       "      <th></th>\n",
       "      <th></th>\n",
       "      <th></th>\n",
       "      <th></th>\n",
       "      <th></th>\n",
       "      <th></th>\n",
       "      <th></th>\n",
       "      <th></th>\n",
       "      <th></th>\n",
       "      <th></th>\n",
       "      <th></th>\n",
       "      <th></th>\n",
       "      <th></th>\n",
       "      <th></th>\n",
       "      <th></th>\n",
       "      <th></th>\n",
       "      <th></th>\n",
       "      <th></th>\n",
       "    </tr>\n",
       "  </thead>\n",
       "  <tbody>\n",
       "    <tr>\n",
       "      <th>1811_Chateaubriand-François-Rene-de_Oeuvres-completes</th>\n",
       "      <td>0.073227</td>\n",
       "      <td>0.074235</td>\n",
       "      <td>0.025755</td>\n",
       "      <td>0.025387</td>\n",
       "      <td>0.013422</td>\n",
       "      <td>0.017301</td>\n",
       "      <td>0.019712</td>\n",
       "      <td>0.005607</td>\n",
       "      <td>0.013674</td>\n",
       "      <td>0.007144</td>\n",
       "      <td>...</td>\n",
       "      <td>0.000098</td>\n",
       "      <td>0.000037</td>\n",
       "      <td>0.000037</td>\n",
       "      <td>0.000006</td>\n",
       "      <td>0.000000</td>\n",
       "      <td>0.000603</td>\n",
       "      <td>0.000012</td>\n",
       "      <td>0.000197</td>\n",
       "      <td>0.000111</td>\n",
       "      <td>canon</td>\n",
       "    </tr>\n",
       "    <tr>\n",
       "      <th>1812_Kock-Paul-de_L-enfant-de-ma-femme</th>\n",
       "      <td>0.062699</td>\n",
       "      <td>0.056479</td>\n",
       "      <td>0.019378</td>\n",
       "      <td>0.022654</td>\n",
       "      <td>0.023758</td>\n",
       "      <td>0.017336</td>\n",
       "      <td>0.021955</td>\n",
       "      <td>0.016471</td>\n",
       "      <td>0.015771</td>\n",
       "      <td>0.020575</td>\n",
       "      <td>...</td>\n",
       "      <td>0.000184</td>\n",
       "      <td>0.000000</td>\n",
       "      <td>0.000000</td>\n",
       "      <td>0.000037</td>\n",
       "      <td>0.004012</td>\n",
       "      <td>0.000000</td>\n",
       "      <td>0.000000</td>\n",
       "      <td>0.000000</td>\n",
       "      <td>0.000221</td>\n",
       "      <td>non_canon</td>\n",
       "    </tr>\n",
       "    <tr>\n",
       "      <th>1815_Gay-Sophie_Anatole_Vol-1</th>\n",
       "      <td>0.074455</td>\n",
       "      <td>0.083807</td>\n",
       "      <td>0.022538</td>\n",
       "      <td>0.018506</td>\n",
       "      <td>0.013186</td>\n",
       "      <td>0.017548</td>\n",
       "      <td>0.018176</td>\n",
       "      <td>0.023397</td>\n",
       "      <td>0.012062</td>\n",
       "      <td>0.018407</td>\n",
       "      <td>...</td>\n",
       "      <td>0.000033</td>\n",
       "      <td>0.000000</td>\n",
       "      <td>0.000033</td>\n",
       "      <td>0.000000</td>\n",
       "      <td>0.000000</td>\n",
       "      <td>0.000000</td>\n",
       "      <td>0.000033</td>\n",
       "      <td>0.000000</td>\n",
       "      <td>0.000000</td>\n",
       "      <td>non_canon</td>\n",
       "    </tr>\n",
       "    <tr>\n",
       "      <th>1815_Gay-Sophie_Anatole_Vol-2</th>\n",
       "      <td>0.078353</td>\n",
       "      <td>0.088045</td>\n",
       "      <td>0.019131</td>\n",
       "      <td>0.018089</td>\n",
       "      <td>0.013038</td>\n",
       "      <td>0.015721</td>\n",
       "      <td>0.020109</td>\n",
       "      <td>0.022982</td>\n",
       "      <td>0.011428</td>\n",
       "      <td>0.022508</td>\n",
       "      <td>...</td>\n",
       "      <td>0.000063</td>\n",
       "      <td>0.000000</td>\n",
       "      <td>0.000000</td>\n",
       "      <td>0.000000</td>\n",
       "      <td>0.000000</td>\n",
       "      <td>0.000000</td>\n",
       "      <td>0.000032</td>\n",
       "      <td>0.000000</td>\n",
       "      <td>0.000000</td>\n",
       "      <td>non_canon</td>\n",
       "    </tr>\n",
       "    <tr>\n",
       "      <th>1816_Barthelemy-Hadot-Marie-Adelaide_La-Vierge-de-l-Indostan-ou-les-Portugais-au-Malabar_(Tome-2)</th>\n",
       "      <td>0.058306</td>\n",
       "      <td>0.054293</td>\n",
       "      <td>0.020645</td>\n",
       "      <td>0.019710</td>\n",
       "      <td>0.027627</td>\n",
       "      <td>0.021772</td>\n",
       "      <td>0.021305</td>\n",
       "      <td>0.020205</td>\n",
       "      <td>0.014102</td>\n",
       "      <td>0.017209</td>\n",
       "      <td>...</td>\n",
       "      <td>0.000165</td>\n",
       "      <td>0.000000</td>\n",
       "      <td>0.000000</td>\n",
       "      <td>0.000027</td>\n",
       "      <td>0.000000</td>\n",
       "      <td>0.000000</td>\n",
       "      <td>0.000000</td>\n",
       "      <td>0.000027</td>\n",
       "      <td>0.000330</td>\n",
       "      <td>non_canon</td>\n",
       "    </tr>\n",
       "    <tr>\n",
       "      <th>...</th>\n",
       "      <td>...</td>\n",
       "      <td>...</td>\n",
       "      <td>...</td>\n",
       "      <td>...</td>\n",
       "      <td>...</td>\n",
       "      <td>...</td>\n",
       "      <td>...</td>\n",
       "      <td>...</td>\n",
       "      <td>...</td>\n",
       "      <td>...</td>\n",
       "      <td>...</td>\n",
       "      <td>...</td>\n",
       "      <td>...</td>\n",
       "      <td>...</td>\n",
       "      <td>...</td>\n",
       "      <td>...</td>\n",
       "      <td>...</td>\n",
       "      <td>...</td>\n",
       "      <td>...</td>\n",
       "      <td>...</td>\n",
       "      <td>...</td>\n",
       "    </tr>\n",
       "    <tr>\n",
       "      <th>2018_Murail-Marie-Aude_En-nous-beaucoup-d-hommes-respirent</th>\n",
       "      <td>0.051458</td>\n",
       "      <td>0.049526</td>\n",
       "      <td>0.030394</td>\n",
       "      <td>0.015645</td>\n",
       "      <td>0.013524</td>\n",
       "      <td>0.028015</td>\n",
       "      <td>0.019603</td>\n",
       "      <td>0.011710</td>\n",
       "      <td>0.018708</td>\n",
       "      <td>0.011050</td>\n",
       "      <td>...</td>\n",
       "      <td>0.000118</td>\n",
       "      <td>0.000094</td>\n",
       "      <td>0.000000</td>\n",
       "      <td>0.000047</td>\n",
       "      <td>0.000024</td>\n",
       "      <td>0.000024</td>\n",
       "      <td>0.000071</td>\n",
       "      <td>0.000024</td>\n",
       "      <td>0.000047</td>\n",
       "      <td>non_canon</td>\n",
       "    </tr>\n",
       "    <tr>\n",
       "      <th>2019_Murail-Marie-Aude_Sauveur-Fils_5</th>\n",
       "      <td>0.051614</td>\n",
       "      <td>0.045202</td>\n",
       "      <td>0.032226</td>\n",
       "      <td>0.015588</td>\n",
       "      <td>0.017859</td>\n",
       "      <td>0.026201</td>\n",
       "      <td>0.018028</td>\n",
       "      <td>0.018616</td>\n",
       "      <td>0.018229</td>\n",
       "      <td>0.016684</td>\n",
       "      <td>...</td>\n",
       "      <td>0.000108</td>\n",
       "      <td>0.000077</td>\n",
       "      <td>0.000031</td>\n",
       "      <td>0.000000</td>\n",
       "      <td>0.000000</td>\n",
       "      <td>0.000077</td>\n",
       "      <td>0.000046</td>\n",
       "      <td>0.000000</td>\n",
       "      <td>0.000000</td>\n",
       "      <td>non_canon</td>\n",
       "    </tr>\n",
       "    <tr>\n",
       "      <th>2019_Dabos-Christelle_La-Passe-miroir_4-La-Tempete-des-echos</th>\n",
       "      <td>0.055526</td>\n",
       "      <td>0.051064</td>\n",
       "      <td>0.030821</td>\n",
       "      <td>0.012880</td>\n",
       "      <td>0.015859</td>\n",
       "      <td>0.022457</td>\n",
       "      <td>0.023109</td>\n",
       "      <td>0.028765</td>\n",
       "      <td>0.011027</td>\n",
       "      <td>0.020143</td>\n",
       "      <td>...</td>\n",
       "      <td>0.000040</td>\n",
       "      <td>0.000165</td>\n",
       "      <td>0.000079</td>\n",
       "      <td>0.000218</td>\n",
       "      <td>0.000000</td>\n",
       "      <td>0.000073</td>\n",
       "      <td>0.000105</td>\n",
       "      <td>0.000059</td>\n",
       "      <td>0.000040</td>\n",
       "      <td>non_canon</td>\n",
       "    </tr>\n",
       "    <tr>\n",
       "      <th>2020_Melois-Clementine_Dehors-la-tempete</th>\n",
       "      <td>0.061122</td>\n",
       "      <td>0.063857</td>\n",
       "      <td>0.040489</td>\n",
       "      <td>0.017560</td>\n",
       "      <td>0.011954</td>\n",
       "      <td>0.016378</td>\n",
       "      <td>0.019890</td>\n",
       "      <td>0.004761</td>\n",
       "      <td>0.019113</td>\n",
       "      <td>0.006517</td>\n",
       "      <td>...</td>\n",
       "      <td>0.000034</td>\n",
       "      <td>0.000135</td>\n",
       "      <td>0.000034</td>\n",
       "      <td>0.000135</td>\n",
       "      <td>0.000000</td>\n",
       "      <td>0.000473</td>\n",
       "      <td>0.000068</td>\n",
       "      <td>0.000135</td>\n",
       "      <td>0.000000</td>\n",
       "      <td>non_canon</td>\n",
       "    </tr>\n",
       "    <tr>\n",
       "      <th>2020_Springora-Vanessa_Le-consentement</th>\n",
       "      <td>0.046111</td>\n",
       "      <td>0.054330</td>\n",
       "      <td>0.036430</td>\n",
       "      <td>0.014893</td>\n",
       "      <td>0.014492</td>\n",
       "      <td>0.019361</td>\n",
       "      <td>0.020907</td>\n",
       "      <td>0.009079</td>\n",
       "      <td>0.020535</td>\n",
       "      <td>0.013232</td>\n",
       "      <td>...</td>\n",
       "      <td>0.000029</td>\n",
       "      <td>0.000029</td>\n",
       "      <td>0.000029</td>\n",
       "      <td>0.000086</td>\n",
       "      <td>0.000000</td>\n",
       "      <td>0.000000</td>\n",
       "      <td>0.000029</td>\n",
       "      <td>0.000057</td>\n",
       "      <td>0.000000</td>\n",
       "      <td>non_canon</td>\n",
       "    </tr>\n",
       "  </tbody>\n",
       "</table>\n",
       "<p>2960 rows × 1001 columns</p>\n",
       "</div>"
      ],
      "text/plain": [
       "                                                          le        de  \\\n",
       "index                                                                    \n",
       "1811_Chateaubriand-François-Rene-de_Oeuvres-com...  0.073227  0.074235   \n",
       "1812_Kock-Paul-de_L-enfant-de-ma-femme              0.062699  0.056479   \n",
       "1815_Gay-Sophie_Anatole_Vol-1                       0.074455  0.083807   \n",
       "1815_Gay-Sophie_Anatole_Vol-2                       0.078353  0.088045   \n",
       "1816_Barthelemy-Hadot-Marie-Adelaide_La-Vierge-...  0.058306  0.054293   \n",
       "...                                                      ...       ...   \n",
       "2018_Murail-Marie-Aude_En-nous-beaucoup-d-homme...  0.051458  0.049526   \n",
       "2019_Murail-Marie-Aude_Sauveur-Fils_5               0.051614  0.045202   \n",
       "2019_Dabos-Christelle_La-Passe-miroir_4-La-Temp...  0.055526  0.051064   \n",
       "2020_Melois-Clementine_Dehors-la-tempete            0.061122  0.063857   \n",
       "2020_Springora-Vanessa_Le-consentement              0.046111  0.054330   \n",
       "\n",
       "                                                          un        et  \\\n",
       "index                                                                    \n",
       "1811_Chateaubriand-François-Rene-de_Oeuvres-com...  0.025755  0.025387   \n",
       "1812_Kock-Paul-de_L-enfant-de-ma-femme              0.019378  0.022654   \n",
       "1815_Gay-Sophie_Anatole_Vol-1                       0.022538  0.018506   \n",
       "1815_Gay-Sophie_Anatole_Vol-2                       0.019131  0.018089   \n",
       "1816_Barthelemy-Hadot-Marie-Adelaide_La-Vierge-...  0.020645  0.019710   \n",
       "...                                                      ...       ...   \n",
       "2018_Murail-Marie-Aude_En-nous-beaucoup-d-homme...  0.030394  0.015645   \n",
       "2019_Murail-Marie-Aude_Sauveur-Fils_5               0.032226  0.015588   \n",
       "2019_Dabos-Christelle_La-Passe-miroir_4-La-Temp...  0.030821  0.012880   \n",
       "2020_Melois-Clementine_Dehors-la-tempete            0.040489  0.017560   \n",
       "2020_Springora-Vanessa_Le-consentement              0.036430  0.014893   \n",
       "\n",
       "                                                          il     avoir  \\\n",
       "index                                                                    \n",
       "1811_Chateaubriand-François-Rene-de_Oeuvres-com...  0.013422  0.017301   \n",
       "1812_Kock-Paul-de_L-enfant-de-ma-femme              0.023758  0.017336   \n",
       "1815_Gay-Sophie_Anatole_Vol-1                       0.013186  0.017548   \n",
       "1815_Gay-Sophie_Anatole_Vol-2                       0.013038  0.015721   \n",
       "1816_Barthelemy-Hadot-Marie-Adelaide_La-Vierge-...  0.027627  0.021772   \n",
       "...                                                      ...       ...   \n",
       "2018_Murail-Marie-Aude_En-nous-beaucoup-d-homme...  0.013524  0.028015   \n",
       "2019_Murail-Marie-Aude_Sauveur-Fils_5               0.017859  0.026201   \n",
       "2019_Dabos-Christelle_La-Passe-miroir_4-La-Temp...  0.015859  0.022457   \n",
       "2020_Melois-Clementine_Dehors-la-tempete            0.011954  0.016378   \n",
       "2020_Springora-Vanessa_Le-consentement              0.014492  0.019361   \n",
       "\n",
       "                                                          à       lui  \\\n",
       "index                                                                    \n",
       "1811_Chateaubriand-François-Rene-de_Oeuvres-com...  0.019712  0.005607   \n",
       "1812_Kock-Paul-de_L-enfant-de-ma-femme              0.021955  0.016471   \n",
       "1815_Gay-Sophie_Anatole_Vol-1                       0.018176  0.023397   \n",
       "1815_Gay-Sophie_Anatole_Vol-2                       0.020109  0.022982   \n",
       "1816_Barthelemy-Hadot-Marie-Adelaide_La-Vierge-...  0.021305  0.020205   \n",
       "...                                                      ...       ...   \n",
       "2018_Murail-Marie-Aude_En-nous-beaucoup-d-homme...  0.019603  0.011710   \n",
       "2019_Murail-Marie-Aude_Sauveur-Fils_5               0.018028  0.018616   \n",
       "2019_Dabos-Christelle_La-Passe-miroir_4-La-Temp...  0.023109  0.028765   \n",
       "2020_Melois-Clementine_Dehors-la-tempete            0.019890  0.004761   \n",
       "2020_Springora-Vanessa_Le-consentement              0.020907  0.009079   \n",
       "\n",
       "                                                        être       son  ...  \\\n",
       "index                                                                   ...   \n",
       "1811_Chateaubriand-François-Rene-de_Oeuvres-com...  0.013674  0.007144  ...   \n",
       "1812_Kock-Paul-de_L-enfant-de-ma-femme              0.015771  0.020575  ...   \n",
       "1815_Gay-Sophie_Anatole_Vol-1                       0.012062  0.018407  ...   \n",
       "1815_Gay-Sophie_Anatole_Vol-2                       0.011428  0.022508  ...   \n",
       "1816_Barthelemy-Hadot-Marie-Adelaide_La-Vierge-...  0.014102  0.017209  ...   \n",
       "...                                                      ...       ...  ...   \n",
       "2018_Murail-Marie-Aude_En-nous-beaucoup-d-homme...  0.018708  0.011050  ...   \n",
       "2019_Murail-Marie-Aude_Sauveur-Fils_5               0.018229  0.016684  ...   \n",
       "2019_Dabos-Christelle_La-Passe-miroir_4-La-Temp...  0.011027  0.020143  ...   \n",
       "2020_Melois-Clementine_Dehors-la-tempete            0.019113  0.006517  ...   \n",
       "2020_Springora-Vanessa_Le-consentement              0.020535  0.013232  ...   \n",
       "\n",
       "                                                    arrêté     chair  \\\n",
       "index                                                                    \n",
       "1811_Chateaubriand-François-Rene-de_Oeuvres-com...  0.000098  0.000037   \n",
       "1812_Kock-Paul-de_L-enfant-de-ma-femme              0.000184  0.000000   \n",
       "1815_Gay-Sophie_Anatole_Vol-1                       0.000033  0.000000   \n",
       "1815_Gay-Sophie_Anatole_Vol-2                       0.000063  0.000000   \n",
       "1816_Barthelemy-Hadot-Marie-Adelaide_La-Vierge-...  0.000165  0.000000   \n",
       "...                                                      ...       ...   \n",
       "2018_Murail-Marie-Aude_En-nous-beaucoup-d-homme...  0.000118  0.000094   \n",
       "2019_Murail-Marie-Aude_Sauveur-Fils_5               0.000108  0.000077   \n",
       "2019_Dabos-Christelle_La-Passe-miroir_4-La-Temp...  0.000040  0.000165   \n",
       "2020_Melois-Clementine_Dehors-la-tempete            0.000034  0.000135   \n",
       "2020_Springora-Vanessa_Le-consentement              0.000029  0.000029   \n",
       "\n",
       "                                                       lueur     glace  \\\n",
       "index                                                                    \n",
       "1811_Chateaubriand-François-Rene-de_Oeuvres-com...  0.000037  0.000006   \n",
       "1812_Kock-Paul-de_L-enfant-de-ma-femme              0.000000  0.000037   \n",
       "1815_Gay-Sophie_Anatole_Vol-1                       0.000033  0.000000   \n",
       "1815_Gay-Sophie_Anatole_Vol-2                       0.000000  0.000000   \n",
       "1816_Barthelemy-Hadot-Marie-Adelaide_La-Vierge-...  0.000000  0.000027   \n",
       "...                                                      ...       ...   \n",
       "2018_Murail-Marie-Aude_En-nous-beaucoup-d-homme...  0.000000  0.000047   \n",
       "2019_Murail-Marie-Aude_Sauveur-Fils_5               0.000031  0.000000   \n",
       "2019_Dabos-Christelle_La-Passe-miroir_4-La-Temp...  0.000079  0.000218   \n",
       "2020_Melois-Clementine_Dehors-la-tempete            0.000034  0.000135   \n",
       "2020_Springora-Vanessa_Le-consentement              0.000029  0.000086   \n",
       "\n",
       "                                                     colonel      île  \\\n",
       "index                                                                    \n",
       "1811_Chateaubriand-François-Rene-de_Oeuvres-com...  0.000000  0.000603   \n",
       "1812_Kock-Paul-de_L-enfant-de-ma-femme              0.004012  0.000000   \n",
       "1815_Gay-Sophie_Anatole_Vol-1                       0.000000  0.000000   \n",
       "1815_Gay-Sophie_Anatole_Vol-2                       0.000000  0.000000   \n",
       "1816_Barthelemy-Hadot-Marie-Adelaide_La-Vierge-...  0.000000  0.000000   \n",
       "...                                                      ...       ...   \n",
       "2018_Murail-Marie-Aude_En-nous-beaucoup-d-homme...  0.000024  0.000024   \n",
       "2019_Murail-Marie-Aude_Sauveur-Fils_5               0.000000  0.000077   \n",
       "2019_Dabos-Christelle_La-Passe-miroir_4-La-Temp...  0.000000  0.000073   \n",
       "2020_Melois-Clementine_Dehors-la-tempete            0.000000  0.000473   \n",
       "2020_Springora-Vanessa_Le-consentement              0.000000  0.000000   \n",
       "\n",
       "                                                     énorme      pont  \\\n",
       "index                                                                    \n",
       "1811_Chateaubriand-François-Rene-de_Oeuvres-com...  0.000012  0.000197   \n",
       "1812_Kock-Paul-de_L-enfant-de-ma-femme              0.000000  0.000000   \n",
       "1815_Gay-Sophie_Anatole_Vol-1                       0.000033  0.000000   \n",
       "1815_Gay-Sophie_Anatole_Vol-2                       0.000032  0.000000   \n",
       "1816_Barthelemy-Hadot-Marie-Adelaide_La-Vierge-...  0.000000  0.000027   \n",
       "...                                                      ...       ...   \n",
       "2018_Murail-Marie-Aude_En-nous-beaucoup-d-homme...  0.000071  0.000024   \n",
       "2019_Murail-Marie-Aude_Sauveur-Fils_5               0.000046  0.000000   \n",
       "2019_Dabos-Christelle_La-Passe-miroir_4-La-Temp...  0.000105  0.000059   \n",
       "2020_Melois-Clementine_Dehors-la-tempete            0.000068  0.000135   \n",
       "2020_Springora-Vanessa_Le-consentement              0.000029  0.000057   \n",
       "\n",
       "                                                      paysan      canon  \n",
       "index                                                                    \n",
       "1811_Chateaubriand-François-Rene-de_Oeuvres-com...  0.000111      canon  \n",
       "1812_Kock-Paul-de_L-enfant-de-ma-femme              0.000221  non_canon  \n",
       "1815_Gay-Sophie_Anatole_Vol-1                       0.000000  non_canon  \n",
       "1815_Gay-Sophie_Anatole_Vol-2                       0.000000  non_canon  \n",
       "1816_Barthelemy-Hadot-Marie-Adelaide_La-Vierge-...  0.000330  non_canon  \n",
       "...                                                      ...        ...  \n",
       "2018_Murail-Marie-Aude_En-nous-beaucoup-d-homme...  0.000047  non_canon  \n",
       "2019_Murail-Marie-Aude_Sauveur-Fils_5               0.000000  non_canon  \n",
       "2019_Dabos-Christelle_La-Passe-miroir_4-La-Temp...  0.000040  non_canon  \n",
       "2020_Melois-Clementine_Dehors-la-tempete            0.000000  non_canon  \n",
       "2020_Springora-Vanessa_Le-consentement              0.000000  non_canon  \n",
       "\n",
       "[2960 rows x 1001 columns]"
      ]
     },
     "execution_count": 6,
     "metadata": {},
     "output_type": "execute_result"
    }
   ],
   "source": [
    "df_main"
   ]
  },
  {
   "cell_type": "code",
   "execution_count": 7,
   "metadata": {
    "colab": {
     "base_uri": "https://localhost:8080/",
     "height": 178
    },
    "id": "eVa_kpk3zCR8",
    "outputId": "e11b5d74-b43d-43f3-e392-8f0fdd27bb60"
   },
   "outputs": [
    {
     "data": {
      "text/plain": [
       "canon\n",
       "non_canon    0.603716\n",
       "canon        0.396284\n",
       "Name: proportion, dtype: float64"
      ]
     },
     "execution_count": 7,
     "metadata": {},
     "output_type": "execute_result"
    }
   ],
   "source": [
    "df_main.canon.value_counts(normalize=True)"
   ]
  },
  {
   "cell_type": "code",
   "execution_count": 8,
   "metadata": {
    "id": "SbADy905nVQy"
   },
   "outputs": [],
   "source": [
    "def dated(df):\n",
    "    df_res = df.copy()\n",
    "    list_date = []\n",
    "    for elem in df_res.index:\n",
    "        list_date.append(int(elem.split('_')[0]))\n",
    "    df_res['date'] = list_date\n",
    "    return df_res"
   ]
  },
  {
   "cell_type": "code",
   "execution_count": 9,
   "metadata": {
    "colab": {
     "base_uri": "https://localhost:8080/",
     "height": 35
    },
    "id": "x3-B2oI71JkR",
    "outputId": "36cf5ec2-1cde-45ba-a5b0-e2a60bb2084f"
   },
   "outputs": [
    {
     "data": {
      "text/plain": [
       "'1811'"
      ]
     },
     "execution_count": 9,
     "metadata": {},
     "output_type": "execute_result"
    }
   ],
   "source": [
    "list(df_main.index)[0].split('_')[0]"
   ]
  },
  {
   "cell_type": "code",
   "execution_count": 10,
   "metadata": {
    "id": "-Um66q0sn8jO"
   },
   "outputs": [],
   "source": [
    "df_dated = dated(df_main)"
   ]
  },
  {
   "cell_type": "code",
   "execution_count": 11,
   "metadata": {
    "colab": {
     "base_uri": "https://localhost:8080/",
     "height": 874
    },
    "id": "5xE12ck914Jq",
    "outputId": "61775e0a-8709-47aa-f209-685faea314e4"
   },
   "outputs": [
    {
     "data": {
      "text/html": [
       "<div>\n",
       "<style scoped>\n",
       "    .dataframe tbody tr th:only-of-type {\n",
       "        vertical-align: middle;\n",
       "    }\n",
       "\n",
       "    .dataframe tbody tr th {\n",
       "        vertical-align: top;\n",
       "    }\n",
       "\n",
       "    .dataframe thead th {\n",
       "        text-align: right;\n",
       "    }\n",
       "</style>\n",
       "<table border=\"1\" class=\"dataframe\">\n",
       "  <thead>\n",
       "    <tr style=\"text-align: right;\">\n",
       "      <th></th>\n",
       "      <th>le</th>\n",
       "      <th>de</th>\n",
       "      <th>un</th>\n",
       "      <th>et</th>\n",
       "      <th>il</th>\n",
       "      <th>avoir</th>\n",
       "      <th>à</th>\n",
       "      <th>lui</th>\n",
       "      <th>être</th>\n",
       "      <th>son</th>\n",
       "      <th>...</th>\n",
       "      <th>chair</th>\n",
       "      <th>lueur</th>\n",
       "      <th>glace</th>\n",
       "      <th>colonel</th>\n",
       "      <th>île</th>\n",
       "      <th>énorme</th>\n",
       "      <th>pont</th>\n",
       "      <th>paysan</th>\n",
       "      <th>canon</th>\n",
       "      <th>date</th>\n",
       "    </tr>\n",
       "    <tr>\n",
       "      <th>index</th>\n",
       "      <th></th>\n",
       "      <th></th>\n",
       "      <th></th>\n",
       "      <th></th>\n",
       "      <th></th>\n",
       "      <th></th>\n",
       "      <th></th>\n",
       "      <th></th>\n",
       "      <th></th>\n",
       "      <th></th>\n",
       "      <th></th>\n",
       "      <th></th>\n",
       "      <th></th>\n",
       "      <th></th>\n",
       "      <th></th>\n",
       "      <th></th>\n",
       "      <th></th>\n",
       "      <th></th>\n",
       "      <th></th>\n",
       "      <th></th>\n",
       "      <th></th>\n",
       "    </tr>\n",
       "  </thead>\n",
       "  <tbody>\n",
       "    <tr>\n",
       "      <th>1811_Chateaubriand-François-Rene-de_Oeuvres-completes</th>\n",
       "      <td>0.073227</td>\n",
       "      <td>0.074235</td>\n",
       "      <td>0.025755</td>\n",
       "      <td>0.025387</td>\n",
       "      <td>0.013422</td>\n",
       "      <td>0.017301</td>\n",
       "      <td>0.019712</td>\n",
       "      <td>0.005607</td>\n",
       "      <td>0.013674</td>\n",
       "      <td>0.007144</td>\n",
       "      <td>...</td>\n",
       "      <td>0.000037</td>\n",
       "      <td>0.000037</td>\n",
       "      <td>0.000006</td>\n",
       "      <td>0.000000</td>\n",
       "      <td>0.000603</td>\n",
       "      <td>0.000012</td>\n",
       "      <td>0.000197</td>\n",
       "      <td>0.000111</td>\n",
       "      <td>canon</td>\n",
       "      <td>1811</td>\n",
       "    </tr>\n",
       "    <tr>\n",
       "      <th>1812_Kock-Paul-de_L-enfant-de-ma-femme</th>\n",
       "      <td>0.062699</td>\n",
       "      <td>0.056479</td>\n",
       "      <td>0.019378</td>\n",
       "      <td>0.022654</td>\n",
       "      <td>0.023758</td>\n",
       "      <td>0.017336</td>\n",
       "      <td>0.021955</td>\n",
       "      <td>0.016471</td>\n",
       "      <td>0.015771</td>\n",
       "      <td>0.020575</td>\n",
       "      <td>...</td>\n",
       "      <td>0.000000</td>\n",
       "      <td>0.000000</td>\n",
       "      <td>0.000037</td>\n",
       "      <td>0.004012</td>\n",
       "      <td>0.000000</td>\n",
       "      <td>0.000000</td>\n",
       "      <td>0.000000</td>\n",
       "      <td>0.000221</td>\n",
       "      <td>non_canon</td>\n",
       "      <td>1812</td>\n",
       "    </tr>\n",
       "    <tr>\n",
       "      <th>1815_Gay-Sophie_Anatole_Vol-1</th>\n",
       "      <td>0.074455</td>\n",
       "      <td>0.083807</td>\n",
       "      <td>0.022538</td>\n",
       "      <td>0.018506</td>\n",
       "      <td>0.013186</td>\n",
       "      <td>0.017548</td>\n",
       "      <td>0.018176</td>\n",
       "      <td>0.023397</td>\n",
       "      <td>0.012062</td>\n",
       "      <td>0.018407</td>\n",
       "      <td>...</td>\n",
       "      <td>0.000000</td>\n",
       "      <td>0.000033</td>\n",
       "      <td>0.000000</td>\n",
       "      <td>0.000000</td>\n",
       "      <td>0.000000</td>\n",
       "      <td>0.000033</td>\n",
       "      <td>0.000000</td>\n",
       "      <td>0.000000</td>\n",
       "      <td>non_canon</td>\n",
       "      <td>1815</td>\n",
       "    </tr>\n",
       "    <tr>\n",
       "      <th>1815_Gay-Sophie_Anatole_Vol-2</th>\n",
       "      <td>0.078353</td>\n",
       "      <td>0.088045</td>\n",
       "      <td>0.019131</td>\n",
       "      <td>0.018089</td>\n",
       "      <td>0.013038</td>\n",
       "      <td>0.015721</td>\n",
       "      <td>0.020109</td>\n",
       "      <td>0.022982</td>\n",
       "      <td>0.011428</td>\n",
       "      <td>0.022508</td>\n",
       "      <td>...</td>\n",
       "      <td>0.000000</td>\n",
       "      <td>0.000000</td>\n",
       "      <td>0.000000</td>\n",
       "      <td>0.000000</td>\n",
       "      <td>0.000000</td>\n",
       "      <td>0.000032</td>\n",
       "      <td>0.000000</td>\n",
       "      <td>0.000000</td>\n",
       "      <td>non_canon</td>\n",
       "      <td>1815</td>\n",
       "    </tr>\n",
       "    <tr>\n",
       "      <th>1816_Barthelemy-Hadot-Marie-Adelaide_La-Vierge-de-l-Indostan-ou-les-Portugais-au-Malabar_(Tome-2)</th>\n",
       "      <td>0.058306</td>\n",
       "      <td>0.054293</td>\n",
       "      <td>0.020645</td>\n",
       "      <td>0.019710</td>\n",
       "      <td>0.027627</td>\n",
       "      <td>0.021772</td>\n",
       "      <td>0.021305</td>\n",
       "      <td>0.020205</td>\n",
       "      <td>0.014102</td>\n",
       "      <td>0.017209</td>\n",
       "      <td>...</td>\n",
       "      <td>0.000000</td>\n",
       "      <td>0.000000</td>\n",
       "      <td>0.000027</td>\n",
       "      <td>0.000000</td>\n",
       "      <td>0.000000</td>\n",
       "      <td>0.000000</td>\n",
       "      <td>0.000027</td>\n",
       "      <td>0.000330</td>\n",
       "      <td>non_canon</td>\n",
       "      <td>1816</td>\n",
       "    </tr>\n",
       "    <tr>\n",
       "      <th>...</th>\n",
       "      <td>...</td>\n",
       "      <td>...</td>\n",
       "      <td>...</td>\n",
       "      <td>...</td>\n",
       "      <td>...</td>\n",
       "      <td>...</td>\n",
       "      <td>...</td>\n",
       "      <td>...</td>\n",
       "      <td>...</td>\n",
       "      <td>...</td>\n",
       "      <td>...</td>\n",
       "      <td>...</td>\n",
       "      <td>...</td>\n",
       "      <td>...</td>\n",
       "      <td>...</td>\n",
       "      <td>...</td>\n",
       "      <td>...</td>\n",
       "      <td>...</td>\n",
       "      <td>...</td>\n",
       "      <td>...</td>\n",
       "      <td>...</td>\n",
       "    </tr>\n",
       "    <tr>\n",
       "      <th>2018_Murail-Marie-Aude_En-nous-beaucoup-d-hommes-respirent</th>\n",
       "      <td>0.051458</td>\n",
       "      <td>0.049526</td>\n",
       "      <td>0.030394</td>\n",
       "      <td>0.015645</td>\n",
       "      <td>0.013524</td>\n",
       "      <td>0.028015</td>\n",
       "      <td>0.019603</td>\n",
       "      <td>0.011710</td>\n",
       "      <td>0.018708</td>\n",
       "      <td>0.011050</td>\n",
       "      <td>...</td>\n",
       "      <td>0.000094</td>\n",
       "      <td>0.000000</td>\n",
       "      <td>0.000047</td>\n",
       "      <td>0.000024</td>\n",
       "      <td>0.000024</td>\n",
       "      <td>0.000071</td>\n",
       "      <td>0.000024</td>\n",
       "      <td>0.000047</td>\n",
       "      <td>non_canon</td>\n",
       "      <td>2018</td>\n",
       "    </tr>\n",
       "    <tr>\n",
       "      <th>2019_Murail-Marie-Aude_Sauveur-Fils_5</th>\n",
       "      <td>0.051614</td>\n",
       "      <td>0.045202</td>\n",
       "      <td>0.032226</td>\n",
       "      <td>0.015588</td>\n",
       "      <td>0.017859</td>\n",
       "      <td>0.026201</td>\n",
       "      <td>0.018028</td>\n",
       "      <td>0.018616</td>\n",
       "      <td>0.018229</td>\n",
       "      <td>0.016684</td>\n",
       "      <td>...</td>\n",
       "      <td>0.000077</td>\n",
       "      <td>0.000031</td>\n",
       "      <td>0.000000</td>\n",
       "      <td>0.000000</td>\n",
       "      <td>0.000077</td>\n",
       "      <td>0.000046</td>\n",
       "      <td>0.000000</td>\n",
       "      <td>0.000000</td>\n",
       "      <td>non_canon</td>\n",
       "      <td>2019</td>\n",
       "    </tr>\n",
       "    <tr>\n",
       "      <th>2019_Dabos-Christelle_La-Passe-miroir_4-La-Tempete-des-echos</th>\n",
       "      <td>0.055526</td>\n",
       "      <td>0.051064</td>\n",
       "      <td>0.030821</td>\n",
       "      <td>0.012880</td>\n",
       "      <td>0.015859</td>\n",
       "      <td>0.022457</td>\n",
       "      <td>0.023109</td>\n",
       "      <td>0.028765</td>\n",
       "      <td>0.011027</td>\n",
       "      <td>0.020143</td>\n",
       "      <td>...</td>\n",
       "      <td>0.000165</td>\n",
       "      <td>0.000079</td>\n",
       "      <td>0.000218</td>\n",
       "      <td>0.000000</td>\n",
       "      <td>0.000073</td>\n",
       "      <td>0.000105</td>\n",
       "      <td>0.000059</td>\n",
       "      <td>0.000040</td>\n",
       "      <td>non_canon</td>\n",
       "      <td>2019</td>\n",
       "    </tr>\n",
       "    <tr>\n",
       "      <th>2020_Melois-Clementine_Dehors-la-tempete</th>\n",
       "      <td>0.061122</td>\n",
       "      <td>0.063857</td>\n",
       "      <td>0.040489</td>\n",
       "      <td>0.017560</td>\n",
       "      <td>0.011954</td>\n",
       "      <td>0.016378</td>\n",
       "      <td>0.019890</td>\n",
       "      <td>0.004761</td>\n",
       "      <td>0.019113</td>\n",
       "      <td>0.006517</td>\n",
       "      <td>...</td>\n",
       "      <td>0.000135</td>\n",
       "      <td>0.000034</td>\n",
       "      <td>0.000135</td>\n",
       "      <td>0.000000</td>\n",
       "      <td>0.000473</td>\n",
       "      <td>0.000068</td>\n",
       "      <td>0.000135</td>\n",
       "      <td>0.000000</td>\n",
       "      <td>non_canon</td>\n",
       "      <td>2020</td>\n",
       "    </tr>\n",
       "    <tr>\n",
       "      <th>2020_Springora-Vanessa_Le-consentement</th>\n",
       "      <td>0.046111</td>\n",
       "      <td>0.054330</td>\n",
       "      <td>0.036430</td>\n",
       "      <td>0.014893</td>\n",
       "      <td>0.014492</td>\n",
       "      <td>0.019361</td>\n",
       "      <td>0.020907</td>\n",
       "      <td>0.009079</td>\n",
       "      <td>0.020535</td>\n",
       "      <td>0.013232</td>\n",
       "      <td>...</td>\n",
       "      <td>0.000029</td>\n",
       "      <td>0.000029</td>\n",
       "      <td>0.000086</td>\n",
       "      <td>0.000000</td>\n",
       "      <td>0.000000</td>\n",
       "      <td>0.000029</td>\n",
       "      <td>0.000057</td>\n",
       "      <td>0.000000</td>\n",
       "      <td>non_canon</td>\n",
       "      <td>2020</td>\n",
       "    </tr>\n",
       "  </tbody>\n",
       "</table>\n",
       "<p>2960 rows × 1002 columns</p>\n",
       "</div>"
      ],
      "text/plain": [
       "                                                          le        de  \\\n",
       "index                                                                    \n",
       "1811_Chateaubriand-François-Rene-de_Oeuvres-com...  0.073227  0.074235   \n",
       "1812_Kock-Paul-de_L-enfant-de-ma-femme              0.062699  0.056479   \n",
       "1815_Gay-Sophie_Anatole_Vol-1                       0.074455  0.083807   \n",
       "1815_Gay-Sophie_Anatole_Vol-2                       0.078353  0.088045   \n",
       "1816_Barthelemy-Hadot-Marie-Adelaide_La-Vierge-...  0.058306  0.054293   \n",
       "...                                                      ...       ...   \n",
       "2018_Murail-Marie-Aude_En-nous-beaucoup-d-homme...  0.051458  0.049526   \n",
       "2019_Murail-Marie-Aude_Sauveur-Fils_5               0.051614  0.045202   \n",
       "2019_Dabos-Christelle_La-Passe-miroir_4-La-Temp...  0.055526  0.051064   \n",
       "2020_Melois-Clementine_Dehors-la-tempete            0.061122  0.063857   \n",
       "2020_Springora-Vanessa_Le-consentement              0.046111  0.054330   \n",
       "\n",
       "                                                          un        et  \\\n",
       "index                                                                    \n",
       "1811_Chateaubriand-François-Rene-de_Oeuvres-com...  0.025755  0.025387   \n",
       "1812_Kock-Paul-de_L-enfant-de-ma-femme              0.019378  0.022654   \n",
       "1815_Gay-Sophie_Anatole_Vol-1                       0.022538  0.018506   \n",
       "1815_Gay-Sophie_Anatole_Vol-2                       0.019131  0.018089   \n",
       "1816_Barthelemy-Hadot-Marie-Adelaide_La-Vierge-...  0.020645  0.019710   \n",
       "...                                                      ...       ...   \n",
       "2018_Murail-Marie-Aude_En-nous-beaucoup-d-homme...  0.030394  0.015645   \n",
       "2019_Murail-Marie-Aude_Sauveur-Fils_5               0.032226  0.015588   \n",
       "2019_Dabos-Christelle_La-Passe-miroir_4-La-Temp...  0.030821  0.012880   \n",
       "2020_Melois-Clementine_Dehors-la-tempete            0.040489  0.017560   \n",
       "2020_Springora-Vanessa_Le-consentement              0.036430  0.014893   \n",
       "\n",
       "                                                          il     avoir  \\\n",
       "index                                                                    \n",
       "1811_Chateaubriand-François-Rene-de_Oeuvres-com...  0.013422  0.017301   \n",
       "1812_Kock-Paul-de_L-enfant-de-ma-femme              0.023758  0.017336   \n",
       "1815_Gay-Sophie_Anatole_Vol-1                       0.013186  0.017548   \n",
       "1815_Gay-Sophie_Anatole_Vol-2                       0.013038  0.015721   \n",
       "1816_Barthelemy-Hadot-Marie-Adelaide_La-Vierge-...  0.027627  0.021772   \n",
       "...                                                      ...       ...   \n",
       "2018_Murail-Marie-Aude_En-nous-beaucoup-d-homme...  0.013524  0.028015   \n",
       "2019_Murail-Marie-Aude_Sauveur-Fils_5               0.017859  0.026201   \n",
       "2019_Dabos-Christelle_La-Passe-miroir_4-La-Temp...  0.015859  0.022457   \n",
       "2020_Melois-Clementine_Dehors-la-tempete            0.011954  0.016378   \n",
       "2020_Springora-Vanessa_Le-consentement              0.014492  0.019361   \n",
       "\n",
       "                                                          à       lui  \\\n",
       "index                                                                    \n",
       "1811_Chateaubriand-François-Rene-de_Oeuvres-com...  0.019712  0.005607   \n",
       "1812_Kock-Paul-de_L-enfant-de-ma-femme              0.021955  0.016471   \n",
       "1815_Gay-Sophie_Anatole_Vol-1                       0.018176  0.023397   \n",
       "1815_Gay-Sophie_Anatole_Vol-2                       0.020109  0.022982   \n",
       "1816_Barthelemy-Hadot-Marie-Adelaide_La-Vierge-...  0.021305  0.020205   \n",
       "...                                                      ...       ...   \n",
       "2018_Murail-Marie-Aude_En-nous-beaucoup-d-homme...  0.019603  0.011710   \n",
       "2019_Murail-Marie-Aude_Sauveur-Fils_5               0.018028  0.018616   \n",
       "2019_Dabos-Christelle_La-Passe-miroir_4-La-Temp...  0.023109  0.028765   \n",
       "2020_Melois-Clementine_Dehors-la-tempete            0.019890  0.004761   \n",
       "2020_Springora-Vanessa_Le-consentement              0.020907  0.009079   \n",
       "\n",
       "                                                        être       son  ...  \\\n",
       "index                                                                   ...   \n",
       "1811_Chateaubriand-François-Rene-de_Oeuvres-com...  0.013674  0.007144  ...   \n",
       "1812_Kock-Paul-de_L-enfant-de-ma-femme              0.015771  0.020575  ...   \n",
       "1815_Gay-Sophie_Anatole_Vol-1                       0.012062  0.018407  ...   \n",
       "1815_Gay-Sophie_Anatole_Vol-2                       0.011428  0.022508  ...   \n",
       "1816_Barthelemy-Hadot-Marie-Adelaide_La-Vierge-...  0.014102  0.017209  ...   \n",
       "...                                                      ...       ...  ...   \n",
       "2018_Murail-Marie-Aude_En-nous-beaucoup-d-homme...  0.018708  0.011050  ...   \n",
       "2019_Murail-Marie-Aude_Sauveur-Fils_5               0.018229  0.016684  ...   \n",
       "2019_Dabos-Christelle_La-Passe-miroir_4-La-Temp...  0.011027  0.020143  ...   \n",
       "2020_Melois-Clementine_Dehors-la-tempete            0.019113  0.006517  ...   \n",
       "2020_Springora-Vanessa_Le-consentement              0.020535  0.013232  ...   \n",
       "\n",
       "                                                       chair     lueur  \\\n",
       "index                                                                    \n",
       "1811_Chateaubriand-François-Rene-de_Oeuvres-com...  0.000037  0.000037   \n",
       "1812_Kock-Paul-de_L-enfant-de-ma-femme              0.000000  0.000000   \n",
       "1815_Gay-Sophie_Anatole_Vol-1                       0.000000  0.000033   \n",
       "1815_Gay-Sophie_Anatole_Vol-2                       0.000000  0.000000   \n",
       "1816_Barthelemy-Hadot-Marie-Adelaide_La-Vierge-...  0.000000  0.000000   \n",
       "...                                                      ...       ...   \n",
       "2018_Murail-Marie-Aude_En-nous-beaucoup-d-homme...  0.000094  0.000000   \n",
       "2019_Murail-Marie-Aude_Sauveur-Fils_5               0.000077  0.000031   \n",
       "2019_Dabos-Christelle_La-Passe-miroir_4-La-Temp...  0.000165  0.000079   \n",
       "2020_Melois-Clementine_Dehors-la-tempete            0.000135  0.000034   \n",
       "2020_Springora-Vanessa_Le-consentement              0.000029  0.000029   \n",
       "\n",
       "                                                       glace   colonel  \\\n",
       "index                                                                    \n",
       "1811_Chateaubriand-François-Rene-de_Oeuvres-com...  0.000006  0.000000   \n",
       "1812_Kock-Paul-de_L-enfant-de-ma-femme              0.000037  0.004012   \n",
       "1815_Gay-Sophie_Anatole_Vol-1                       0.000000  0.000000   \n",
       "1815_Gay-Sophie_Anatole_Vol-2                       0.000000  0.000000   \n",
       "1816_Barthelemy-Hadot-Marie-Adelaide_La-Vierge-...  0.000027  0.000000   \n",
       "...                                                      ...       ...   \n",
       "2018_Murail-Marie-Aude_En-nous-beaucoup-d-homme...  0.000047  0.000024   \n",
       "2019_Murail-Marie-Aude_Sauveur-Fils_5               0.000000  0.000000   \n",
       "2019_Dabos-Christelle_La-Passe-miroir_4-La-Temp...  0.000218  0.000000   \n",
       "2020_Melois-Clementine_Dehors-la-tempete            0.000135  0.000000   \n",
       "2020_Springora-Vanessa_Le-consentement              0.000086  0.000000   \n",
       "\n",
       "                                                        île   énorme  \\\n",
       "index                                                                    \n",
       "1811_Chateaubriand-François-Rene-de_Oeuvres-com...  0.000603  0.000012   \n",
       "1812_Kock-Paul-de_L-enfant-de-ma-femme              0.000000  0.000000   \n",
       "1815_Gay-Sophie_Anatole_Vol-1                       0.000000  0.000033   \n",
       "1815_Gay-Sophie_Anatole_Vol-2                       0.000000  0.000032   \n",
       "1816_Barthelemy-Hadot-Marie-Adelaide_La-Vierge-...  0.000000  0.000000   \n",
       "...                                                      ...       ...   \n",
       "2018_Murail-Marie-Aude_En-nous-beaucoup-d-homme...  0.000024  0.000071   \n",
       "2019_Murail-Marie-Aude_Sauveur-Fils_5               0.000077  0.000046   \n",
       "2019_Dabos-Christelle_La-Passe-miroir_4-La-Temp...  0.000073  0.000105   \n",
       "2020_Melois-Clementine_Dehors-la-tempete            0.000473  0.000068   \n",
       "2020_Springora-Vanessa_Le-consentement              0.000000  0.000029   \n",
       "\n",
       "                                                        pont    paysan  \\\n",
       "index                                                                    \n",
       "1811_Chateaubriand-François-Rene-de_Oeuvres-com...  0.000197  0.000111   \n",
       "1812_Kock-Paul-de_L-enfant-de-ma-femme              0.000000  0.000221   \n",
       "1815_Gay-Sophie_Anatole_Vol-1                       0.000000  0.000000   \n",
       "1815_Gay-Sophie_Anatole_Vol-2                       0.000000  0.000000   \n",
       "1816_Barthelemy-Hadot-Marie-Adelaide_La-Vierge-...  0.000027  0.000330   \n",
       "...                                                      ...       ...   \n",
       "2018_Murail-Marie-Aude_En-nous-beaucoup-d-homme...  0.000024  0.000047   \n",
       "2019_Murail-Marie-Aude_Sauveur-Fils_5               0.000000  0.000000   \n",
       "2019_Dabos-Christelle_La-Passe-miroir_4-La-Temp...  0.000059  0.000040   \n",
       "2020_Melois-Clementine_Dehors-la-tempete            0.000135  0.000000   \n",
       "2020_Springora-Vanessa_Le-consentement              0.000057  0.000000   \n",
       "\n",
       "                                                        canon  date  \n",
       "index                                                                \n",
       "1811_Chateaubriand-François-Rene-de_Oeuvres-com...      canon  1811  \n",
       "1812_Kock-Paul-de_L-enfant-de-ma-femme              non_canon  1812  \n",
       "1815_Gay-Sophie_Anatole_Vol-1                       non_canon  1815  \n",
       "1815_Gay-Sophie_Anatole_Vol-2                       non_canon  1815  \n",
       "1816_Barthelemy-Hadot-Marie-Adelaide_La-Vierge-...  non_canon  1816  \n",
       "...                                                       ...   ...  \n",
       "2018_Murail-Marie-Aude_En-nous-beaucoup-d-homme...  non_canon  2018  \n",
       "2019_Murail-Marie-Aude_Sauveur-Fils_5               non_canon  2019  \n",
       "2019_Dabos-Christelle_La-Passe-miroir_4-La-Temp...  non_canon  2019  \n",
       "2020_Melois-Clementine_Dehors-la-tempete            non_canon  2020  \n",
       "2020_Springora-Vanessa_Le-consentement              non_canon  2020  \n",
       "\n",
       "[2960 rows x 1002 columns]"
      ]
     },
     "execution_count": 11,
     "metadata": {},
     "output_type": "execute_result"
    }
   ],
   "source": [
    "df_dated"
   ]
  },
  {
   "cell_type": "code",
   "execution_count": 12,
   "metadata": {
    "id": "nfeWylowSGpr"
   },
   "outputs": [],
   "source": [
    "def plot_decade_counts(df):\n",
    "    # Create a new column for decades\n",
    "    df['decade'] = (df['date'].values // 10) * 10\n",
    "\n",
    "    # Group by decade and count 'canon' values\n",
    "    decade_counts = df.groupby(['decade', 'canon']).size().unstack(fill_value=0)\n",
    "    decade_counts.drop(2020, axis=0, inplace=True)\n",
    "\n",
    "    fig, ax = plt.subplots(figsize=(30,15))\n",
    "    decade_counts.plot(kind='bar', stacked=True, ax=ax, color=['r','b'])\n",
    "\n",
    "    plt.xlabel('Decades', fontsize=30)\n",
    "    plt.xticks(fontsize=30)\n",
    "    plt.yticks(fontsize=30)\n",
    "    plt.ylabel('Number of novels', fontsize=30)\n",
    "    plt.legend(labels=['canon', 'corpus'], prop={'size': 30})\n",
    "\n",
    "    plt.show()\n",
    "\n",
    "    return decade_counts"
   ]
  },
  {
   "cell_type": "code",
   "execution_count": null,
   "metadata": {
    "id": "03bHjGJf12kB"
   },
   "outputs": [],
   "source": []
  },
  {
   "cell_type": "code",
   "execution_count": 13,
   "metadata": {
    "colab": {
     "base_uri": "https://localhost:8080/",
     "height": 682
    },
    "id": "1G57yOxlSbMg",
    "outputId": "b66e66cf-228b-4216-9bd8-2d1bb2378e60"
   },
   "outputs": [
    {
     "data": {
      "image/png": "[encoded data removed]",
      "text/plain": [
       "<Figure size 3000x1500 with 1 Axes>"
      ]
     },
     "metadata": {},
     "output_type": "display_data"
    }
   ],
   "source": [
    "decade_counts_authors = plot_decade_counts(df_dated)"
   ]
  },
  {
   "cell_type": "code",
   "execution_count": null,
   "metadata": {
    "id": "PRqr6hCJop0T"
   },
   "outputs": [],
   "source": []
  },
  {
   "cell_type": "code",
   "execution_count": 14,
   "metadata": {
    "id": "AoqcEKFnoqSa"
   },
   "outputs": [],
   "source": [
    "from sklearn.model_selection import train_test_split"
   ]
  },
  {
   "cell_type": "code",
   "execution_count": 15,
   "metadata": {
    "id": "eWPBJ5p1o1Z4"
   },
   "outputs": [],
   "source": [
    "X_train, X_test, y_train, y_test = train_test_split(df_main.drop('canon', axis=1), df_main['canon'], test_size=0.2, random_state=42)"
   ]
  },
  {
   "cell_type": "code",
   "execution_count": 16,
   "metadata": {
    "colab": {
     "base_uri": "https://localhost:8080/",
     "height": 490
    },
    "id": "pGW_BHPVwn93",
    "outputId": "37964ba6-2257-412c-9918-f890d5ca4b42"
   },
   "outputs": [
    {
     "data": {
      "text/plain": [
       "index\n",
       "1934_Vercel-Roger_Capitaine-Conan                                                                          non_canon\n",
       "1910_Cim-Albert_Le-petit-Leveille                                                                          non_canon\n",
       "1873_Rousset-Alexis_Derailles-et-declasses-Paris-et-la-province_Tome-2                                     non_canon\n",
       "1941_Mac-Orlan-Pierre_L-Ancre-de-misericorde                                                                   canon\n",
       "1936_Montherlant-Henry-de_Pitie-pour-les-femmes                                                                canon\n",
       "                                                                                                             ...    \n",
       "1875_Mirabeau-Marie-Le-Harivel-de-Gonneville_Ctesse-de-Mirabeau-Jane-et-Germaine-Voyages-d-un-capitaine    non_canon\n",
       "1869_Carraud-Zulma-Tourangin-Mme_Les-Gouters-de-la-grand-mere                                              non_canon\n",
       "1884_Guy-de-Maupassant_Au-soleil                                                                               canon\n",
       "1994_Chevillard-Eric_Prehistoire                                                                               canon\n",
       "1861_Maquet-Charles_Les-orages-de-la-vie                                                                   non_canon\n",
       "Name: canon, Length: 592, dtype: object"
      ]
     },
     "execution_count": 16,
     "metadata": {},
     "output_type": "execute_result"
    }
   ],
   "source": [
    "y_test"
   ]
  },
  {
   "cell_type": "code",
   "execution_count": 17,
   "metadata": {
    "colab": {
     "base_uri": "https://localhost:8080/"
    },
    "id": "xRxh1_Ky6dpX",
    "outputId": "6ed663be-b10e-4cf1-d47e-c32687a27a25"
   },
   "outputs": [
    {
     "data": {
      "text/plain": [
       "2368"
      ]
     },
     "execution_count": 17,
     "metadata": {},
     "output_type": "execute_result"
    }
   ],
   "source": [
    "2960-592"
   ]
  },
  {
   "cell_type": "code",
   "execution_count": 18,
   "metadata": {
    "id": "yv9t-Ix-woI4"
   },
   "outputs": [],
   "source": [
    "from sklearn.linear_model import LogisticRegression\n",
    "from sklearn.metrics import accuracy_score"
   ]
  },
  {
   "cell_type": "markdown",
   "metadata": {
    "id": "Bbfhrx22orqs"
   },
   "source": [
    "![ml_map](https://assets.wikiwand.com/_next/image?url=https://upload.wikimedia.org/wikipedia/commons/thumb/c/cb/Exam_pass_logistic_curve.svg/1100px-Exam_pass_logistic_curve.svg.png&w=750&q=70)\n"
   ]
  },
  {
   "cell_type": "code",
   "execution_count": 19,
   "metadata": {
    "id": "iSkakOH7ozH_"
   },
   "outputs": [],
   "source": [
    "log_reg = LogisticRegression(class_weight='balanced')"
   ]
  },
  {
   "cell_type": "code",
   "execution_count": 20,
   "metadata": {
    "colab": {
     "base_uri": "https://localhost:8080/",
     "height": 80
    },
    "id": "1ny8p6uzz2k7",
    "outputId": "0b5879ae-a777-4954-cea3-02f12707d994"
   },
   "outputs": [
    {
     "data": {
      "text/html": [
       "<style>#sk-container-id-1 {\n",
       "  /* Definition of color scheme common for light and dark mode */\n",
       "  --sklearn-color-text: #000;\n",
       "  --sklearn-color-text-muted: #666;\n",
       "  --sklearn-color-line: gray;\n",
       "  /* Definition of color scheme for unfitted estimators */\n",
       "  --sklearn-color-unfitted-level-0: #fff5e6;\n",
       "  --sklearn-color-unfitted-level-1: #f6e4d2;\n",
       "  --sklearn-color-unfitted-level-2: #ffe0b3;\n",
       "  --sklearn-color-unfitted-level-3: chocolate;\n",
       "  /* Definition of color scheme for fitted estimators */\n",
       "  --sklearn-color-fitted-level-0: #f0f8ff;\n",
       "  --sklearn-color-fitted-level-1: #d4ebff;\n",
       "  --sklearn-color-fitted-level-2: #b3dbfd;\n",
       "  --sklearn-color-fitted-level-3: cornflowerblue;\n",
       "\n",
       "  /* Specific color for light theme */\n",
       "  --sklearn-color-text-on-default-background: var(--sg-text-color, var(--theme-code-foreground, var(--jp-content-font-color1, black)));\n",
       "  --sklearn-color-background: var(--sg-background-color, var(--theme-background, var(--jp-layout-color0, white)));\n",
       "  --sklearn-color-border-box: var(--sg-text-color, var(--theme-code-foreground, var(--jp-content-font-color1, black)));\n",
       "  --sklearn-color-icon: #696969;\n",
       "\n",
       "  @media (prefers-color-scheme: dark) {\n",
       "    /* Redefinition of color scheme for dark theme */\n",
       "    --sklearn-color-text-on-default-background: var(--sg-text-color, var(--theme-code-foreground, var(--jp-content-font-color1, white)));\n",
       "    --sklearn-color-background: var(--sg-background-color, var(--theme-background, var(--jp-layout-color0, #111)));\n",
       "    --sklearn-color-border-box: var(--sg-text-color, var(--theme-code-foreground, var(--jp-content-font-color1, white)));\n",
       "    --sklearn-color-icon: #878787;\n",
       "  }\n",
       "}\n",
       "\n",
       "#sk-container-id-1 {\n",
       "  color: var(--sklearn-color-text);\n",
       "}\n",
       "\n",
       "#sk-container-id-1 pre {\n",
       "  padding: 0;\n",
       "}\n",
       "\n",
       "#sk-container-id-1 input.sk-hidden--visually {\n",
       "  border: 0;\n",
       "  clip: rect(1px 1px 1px 1px);\n",
       "  clip: rect(1px, 1px, 1px, 1px);\n",
       "  height: 1px;\n",
       "  margin: -1px;\n",
       "  overflow: hidden;\n",
       "  padding: 0;\n",
       "  position: absolute;\n",
       "  width: 1px;\n",
       "}\n",
       "\n",
       "#sk-container-id-1 div.sk-dashed-wrapped {\n",
       "  border: 1px dashed var(--sklearn-color-line);\n",
       "  margin: 0 0.4em 0.5em 0.4em;\n",
       "  box-sizing: border-box;\n",
       "  padding-bottom: 0.4em;\n",
       "  background-color: var(--sklearn-color-background);\n",
       "}\n",
       "\n",
       "#sk-container-id-1 div.sk-container {\n",
       "  /* jupyter's `normalize.less` sets `[hidden] { display: none; }`\n",
       "     but bootstrap.min.css set `[hidden] { display: none !important; }`\n",
       "     so we also need the `!important` here to be able to override the\n",
       "     default hidden behavior on the sphinx rendered scikit-learn.org.\n",
       "     See: https://github.com/scikit-learn/scikit-learn/issues/21755 */\n",
       "  display: inline-block !important;\n",
       "  position: relative;\n",
       "}\n",
       "\n",
       "#sk-container-id-1 div.sk-text-repr-fallback {\n",
       "  display: none;\n",
       "}\n",
       "\n",
       "div.sk-parallel-item,\n",
       "div.sk-serial,\n",
       "div.sk-item {\n",
       "  /* draw centered vertical line to link estimators */\n",
       "  background-image: linear-gradient(var(--sklearn-color-text-on-default-background), var(--sklearn-color-text-on-default-background));\n",
       "  background-size: 2px 100%;\n",
       "  background-repeat: no-repeat;\n",
       "  background-position: center center;\n",
       "}\n",
       "\n",
       "/* Parallel-specific style estimator block */\n",
       "\n",
       "#sk-container-id-1 div.sk-parallel-item::after {\n",
       "  content: \"\";\n",
       "  width: 100%;\n",
       "  border-bottom: 2px solid var(--sklearn-color-text-on-default-background);\n",
       "  flex-grow: 1;\n",
       "}\n",
       "\n",
       "#sk-container-id-1 div.sk-parallel {\n",
       "  display: flex;\n",
       "  align-items: stretch;\n",
       "  justify-content: center;\n",
       "  background-color: var(--sklearn-color-background);\n",
       "  position: relative;\n",
       "}\n",
       "\n",
       "#sk-container-id-1 div.sk-parallel-item {\n",
       "  display: flex;\n",
       "  flex-direction: column;\n",
       "}\n",
       "\n",
       "#sk-container-id-1 div.sk-parallel-item:first-child::after {\n",
       "  align-self: flex-end;\n",
       "  width: 50%;\n",
       "}\n",
       "\n",
       "#sk-container-id-1 div.sk-parallel-item:last-child::after {\n",
       "  align-self: flex-start;\n",
       "  width: 50%;\n",
       "}\n",
       "\n",
       "#sk-container-id-1 div.sk-parallel-item:only-child::after {\n",
       "  width: 0;\n",
       "}\n",
       "\n",
       "/* Serial-specific style estimator block */\n",
       "\n",
       "#sk-container-id-1 div.sk-serial {\n",
       "  display: flex;\n",
       "  flex-direction: column;\n",
       "  align-items: center;\n",
       "  background-color: var(--sklearn-color-background);\n",
       "  padding-right: 1em;\n",
       "  padding-left: 1em;\n",
       "}\n",
       "\n",
       "\n",
       "/* Toggleable style: style used for estimator/Pipeline/ColumnTransformer box that is\n",
       "clickable and can be expanded/collapsed.\n",
       "- Pipeline and ColumnTransformer use this feature and define the default style\n",
       "- Estimators will overwrite some part of the style using the `sk-estimator` class\n",
       "*/\n",
       "\n",
       "/* Pipeline and ColumnTransformer style (default) */\n",
       "\n",
       "#sk-container-id-1 div.sk-toggleable {\n",
       "  /* Default theme specific background. It is overwritten whether we have a\n",
       "  specific estimator or a Pipeline/ColumnTransformer */\n",
       "  background-color: var(--sklearn-color-background);\n",
       "}\n",
       "\n",
       "/* Toggleable label */\n",
       "#sk-container-id-1 label.sk-toggleable__label {\n",
       "  cursor: pointer;\n",
       "  display: flex;\n",
       "  width: 100%;\n",
       "  margin-bottom: 0;\n",
       "  padding: 0.5em;\n",
       "  box-sizing: border-box;\n",
       "  text-align: center;\n",
       "  align-items: start;\n",
       "  justify-content: space-between;\n",
       "  gap: 0.5em;\n",
       "}\n",
       "\n",
       "#sk-container-id-1 label.sk-toggleable__label .caption {\n",
       "  font-size: 0.6rem;\n",
       "  font-weight: lighter;\n",
       "  color: var(--sklearn-color-text-muted);\n",
       "}\n",
       "\n",
       "#sk-container-id-1 label.sk-toggleable__label-arrow:before {\n",
       "  /* Arrow on the left of the label */\n",
       "  content: \"▸\";\n",
       "  float: left;\n",
       "  margin-right: 0.25em;\n",
       "  color: var(--sklearn-color-icon);\n",
       "}\n",
       "\n",
       "#sk-container-id-1 label.sk-toggleable__label-arrow:hover:before {\n",
       "  color: var(--sklearn-color-text);\n",
       "}\n",
       "\n",
       "/* Toggleable content - dropdown */\n",
       "\n",
       "#sk-container-id-1 div.sk-toggleable__content {\n",
       "  max-height: 0;\n",
       "  max-width: 0;\n",
       "  overflow: hidden;\n",
       "  text-align: left;\n",
       "  /* unfitted */\n",
       "  background-color: var(--sklearn-color-unfitted-level-0);\n",
       "}\n",
       "\n",
       "#sk-container-id-1 div.sk-toggleable__content.fitted {\n",
       "  /* fitted */\n",
       "  background-color: var(--sklearn-color-fitted-level-0);\n",
       "}\n",
       "\n",
       "#sk-container-id-1 div.sk-toggleable__content pre {\n",
       "  margin: 0.2em;\n",
       "  border-radius: 0.25em;\n",
       "  color: var(--sklearn-color-text);\n",
       "  /* unfitted */\n",
       "  background-color: var(--sklearn-color-unfitted-level-0);\n",
       "}\n",
       "\n",
       "#sk-container-id-1 div.sk-toggleable__content.fitted pre {\n",
       "  /* unfitted */\n",
       "  background-color: var(--sklearn-color-fitted-level-0);\n",
       "}\n",
       "\n",
       "#sk-container-id-1 input.sk-toggleable__control:checked~div.sk-toggleable__content {\n",
       "  /* Expand drop-down */\n",
       "  max-height: 200px;\n",
       "  max-width: 100%;\n",
       "  overflow: auto;\n",
       "}\n",
       "\n",
       "#sk-container-id-1 input.sk-toggleable__control:checked~label.sk-toggleable__label-arrow:before {\n",
       "  content: \"▾\";\n",
       "}\n",
       "\n",
       "/* Pipeline/ColumnTransformer-specific style */\n",
       "\n",
       "#sk-container-id-1 div.sk-label input.sk-toggleable__control:checked~label.sk-toggleable__label {\n",
       "  color: var(--sklearn-color-text);\n",
       "  background-color: var(--sklearn-color-unfitted-level-2);\n",
       "}\n",
       "\n",
       "#sk-container-id-1 div.sk-label.fitted input.sk-toggleable__control:checked~label.sk-toggleable__label {\n",
       "  background-color: var(--sklearn-color-fitted-level-2);\n",
       "}\n",
       "\n",
       "/* Estimator-specific style */\n",
       "\n",
       "/* Colorize estimator box */\n",
       "#sk-container-id-1 div.sk-estimator input.sk-toggleable__control:checked~label.sk-toggleable__label {\n",
       "  /* unfitted */\n",
       "  background-color: var(--sklearn-color-unfitted-level-2);\n",
       "}\n",
       "\n",
       "#sk-container-id-1 div.sk-estimator.fitted input.sk-toggleable__control:checked~label.sk-toggleable__label {\n",
       "  /* fitted */\n",
       "  background-color: var(--sklearn-color-fitted-level-2);\n",
       "}\n",
       "\n",
       "#sk-container-id-1 div.sk-label label.sk-toggleable__label,\n",
       "#sk-container-id-1 div.sk-label label {\n",
       "  /* The background is the default theme color */\n",
       "  color: var(--sklearn-color-text-on-default-background);\n",
       "}\n",
       "\n",
       "/* On hover, darken the color of the background */\n",
       "#sk-container-id-1 div.sk-label:hover label.sk-toggleable__label {\n",
       "  color: var(--sklearn-color-text);\n",
       "  background-color: var(--sklearn-color-unfitted-level-2);\n",
       "}\n",
       "\n",
       "/* Label box, darken color on hover, fitted */\n",
       "#sk-container-id-1 div.sk-label.fitted:hover label.sk-toggleable__label.fitted {\n",
       "  color: var(--sklearn-color-text);\n",
       "  background-color: var(--sklearn-color-fitted-level-2);\n",
       "}\n",
       "\n",
       "/* Estimator label */\n",
       "\n",
       "#sk-container-id-1 div.sk-label label {\n",
       "  font-family: monospace;\n",
       "  font-weight: bold;\n",
       "  display: inline-block;\n",
       "  line-height: 1.2em;\n",
       "}\n",
       "\n",
       "#sk-container-id-1 div.sk-label-container {\n",
       "  text-align: center;\n",
       "}\n",
       "\n",
       "/* Estimator-specific */\n",
       "#sk-container-id-1 div.sk-estimator {\n",
       "  font-family: monospace;\n",
       "  border: 1px dotted var(--sklearn-color-border-box);\n",
       "  border-radius: 0.25em;\n",
       "  box-sizing: border-box;\n",
       "  margin-bottom: 0.5em;\n",
       "  /* unfitted */\n",
       "  background-color: var(--sklearn-color-unfitted-level-0);\n",
       "}\n",
       "\n",
       "#sk-container-id-1 div.sk-estimator.fitted {\n",
       "  /* fitted */\n",
       "  background-color: var(--sklearn-color-fitted-level-0);\n",
       "}\n",
       "\n",
       "/* on hover */\n",
       "#sk-container-id-1 div.sk-estimator:hover {\n",
       "  /* unfitted */\n",
       "  background-color: var(--sklearn-color-unfitted-level-2);\n",
       "}\n",
       "\n",
       "#sk-container-id-1 div.sk-estimator.fitted:hover {\n",
       "  /* fitted */\n",
       "  background-color: var(--sklearn-color-fitted-level-2);\n",
       "}\n",
       "\n",
       "/* Specification for estimator info (e.g. \"i\" and \"?\") */\n",
       "\n",
       "/* Common style for \"i\" and \"?\" */\n",
       "\n",
       ".sk-estimator-doc-link,\n",
       "a:link.sk-estimator-doc-link,\n",
       "a:visited.sk-estimator-doc-link {\n",
       "  float: right;\n",
       "  font-size: smaller;\n",
       "  line-height: 1em;\n",
       "  font-family: monospace;\n",
       "  background-color: var(--sklearn-color-background);\n",
       "  border-radius: 1em;\n",
       "  height: 1em;\n",
       "  width: 1em;\n",
       "  text-decoration: none !important;\n",
       "  margin-left: 0.5em;\n",
       "  text-align: center;\n",
       "  /* unfitted */\n",
       "  border: var(--sklearn-color-unfitted-level-1) 1pt solid;\n",
       "  color: var(--sklearn-color-unfitted-level-1);\n",
       "}\n",
       "\n",
       ".sk-estimator-doc-link.fitted,\n",
       "a:link.sk-estimator-doc-link.fitted,\n",
       "a:visited.sk-estimator-doc-link.fitted {\n",
       "  /* fitted */\n",
       "  border: var(--sklearn-color-fitted-level-1) 1pt solid;\n",
       "  color: var(--sklearn-color-fitted-level-1);\n",
       "}\n",
       "\n",
       "/* On hover */\n",
       "div.sk-estimator:hover .sk-estimator-doc-link:hover,\n",
       ".sk-estimator-doc-link:hover,\n",
       "div.sk-label-container:hover .sk-estimator-doc-link:hover,\n",
       ".sk-estimator-doc-link:hover {\n",
       "  /* unfitted */\n",
       "  background-color: var(--sklearn-color-unfitted-level-3);\n",
       "  color: var(--sklearn-color-background);\n",
       "  text-decoration: none;\n",
       "}\n",
       "\n",
       "div.sk-estimator.fitted:hover .sk-estimator-doc-link.fitted:hover,\n",
       ".sk-estimator-doc-link.fitted:hover,\n",
       "div.sk-label-container:hover .sk-estimator-doc-link.fitted:hover,\n",
       ".sk-estimator-doc-link.fitted:hover {\n",
       "  /* fitted */\n",
       "  background-color: var(--sklearn-color-fitted-level-3);\n",
       "  color: var(--sklearn-color-background);\n",
       "  text-decoration: none;\n",
       "}\n",
       "\n",
       "/* Span, style for the box shown on hovering the info icon */\n",
       ".sk-estimator-doc-link span {\n",
       "  display: none;\n",
       "  z-index: 9999;\n",
       "  position: relative;\n",
       "  font-weight: normal;\n",
       "  right: .2ex;\n",
       "  padding: .5ex;\n",
       "  margin: .5ex;\n",
       "  width: min-content;\n",
       "  min-width: 20ex;\n",
       "  max-width: 50ex;\n",
       "  color: var(--sklearn-color-text);\n",
       "  box-shadow: 2pt 2pt 4pt #999;\n",
       "  /* unfitted */\n",
       "  background: var(--sklearn-color-unfitted-level-0);\n",
       "  border: .5pt solid var(--sklearn-color-unfitted-level-3);\n",
       "}\n",
       "\n",
       ".sk-estimator-doc-link.fitted span {\n",
       "  /* fitted */\n",
       "  background: var(--sklearn-color-fitted-level-0);\n",
       "  border: var(--sklearn-color-fitted-level-3);\n",
       "}\n",
       "\n",
       ".sk-estimator-doc-link:hover span {\n",
       "  display: block;\n",
       "}\n",
       "\n",
       "/* \"?\"-specific style due to the `<a>` HTML tag */\n",
       "\n",
       "#sk-container-id-1 a.estimator_doc_link {\n",
       "  float: right;\n",
       "  font-size: 1rem;\n",
       "  line-height: 1em;\n",
       "  font-family: monospace;\n",
       "  background-color: var(--sklearn-color-background);\n",
       "  border-radius: 1rem;\n",
       "  height: 1rem;\n",
       "  width: 1rem;\n",
       "  text-decoration: none;\n",
       "  /* unfitted */\n",
       "  color: var(--sklearn-color-unfitted-level-1);\n",
       "  border: var(--sklearn-color-unfitted-level-1) 1pt solid;\n",
       "}\n",
       "\n",
       "#sk-container-id-1 a.estimator_doc_link.fitted {\n",
       "  /* fitted */\n",
       "  border: var(--sklearn-color-fitted-level-1) 1pt solid;\n",
       "  color: var(--sklearn-color-fitted-level-1);\n",
       "}\n",
       "\n",
       "/* On hover */\n",
       "#sk-container-id-1 a.estimator_doc_link:hover {\n",
       "  /* unfitted */\n",
       "  background-color: var(--sklearn-color-unfitted-level-3);\n",
       "  color: var(--sklearn-color-background);\n",
       "  text-decoration: none;\n",
       "}\n",
       "\n",
       "#sk-container-id-1 a.estimator_doc_link.fitted:hover {\n",
       "  /* fitted */\n",
       "  background-color: var(--sklearn-color-fitted-level-3);\n",
       "}\n",
       "</style><div id=\"sk-container-id-1\" class=\"sk-top-container\"><div class=\"sk-text-repr-fallback\"><pre>LogisticRegression(class_weight=&#x27;balanced&#x27;)</pre><b>In a Jupyter environment, please rerun this cell to show the HTML representation or trust the notebook. <br />On GitHub, the HTML representation is unable to render, please try loading this page with nbviewer.org.</b></div><div class=\"sk-container\" hidden><div class=\"sk-item\"><div class=\"sk-estimator fitted sk-toggleable\"><input class=\"sk-toggleable__control sk-hidden--visually\" id=\"sk-estimator-id-1\" type=\"checkbox\" checked><label for=\"sk-estimator-id-1\" class=\"sk-toggleable__label fitted sk-toggleable__label-arrow\"><div><div>LogisticRegression</div></div><div><a class=\"sk-estimator-doc-link fitted\" rel=\"noreferrer\" target=\"_blank\" href=\"https://scikit-learn.org/1.6/modules/generated/sklearn.linear_model.LogisticRegression.html\">?<span>Documentation for LogisticRegression</span></a><span class=\"sk-estimator-doc-link fitted\">i<span>Fitted</span></span></div></label><div class=\"sk-toggleable__content fitted\"><pre>LogisticRegression(class_weight=&#x27;balanced&#x27;)</pre></div> </div></div></div></div>"
      ],
      "text/plain": [
       "LogisticRegression(class_weight='balanced')"
      ]
     },
     "execution_count": 20,
     "metadata": {},
     "output_type": "execute_result"
    }
   ],
   "source": [
    "log_reg.fit(X_train, y_train)"
   ]
  },
  {
   "cell_type": "code",
   "execution_count": 21,
   "metadata": {
    "id": "RBuzHxuQ7_hb"
   },
   "outputs": [],
   "source": [
    "y_pred_log_reg = log_reg.predict(X_test)"
   ]
  },
  {
   "cell_type": "code",
   "execution_count": 23,
   "metadata": {
    "id": "_Wj1X92L7_5Q"
   },
   "outputs": [],
   "source": [
    "from sklearn.metrics import r2_score, mean_absolute_error, mean_squared_error, ConfusionMatrixDisplay, classification_report"
   ]
  },
  {
   "cell_type": "code",
   "execution_count": 24,
   "metadata": {
    "colab": {
     "base_uri": "https://localhost:8080/",
     "height": 449
    },
    "id": "RrNieE539vP1",
    "outputId": "34a77855-6c99-4de1-bde1-6fa784038594"
   },
   "outputs": [
    {
     "data": {
      "image/png": "[encoded data removed]",
      "text/plain": [
       "<Figure size 640x480 with 2 Axes>"
      ]
     },
     "metadata": {},
     "output_type": "display_data"
    }
   ],
   "source": [
    "_ = ConfusionMatrixDisplay.from_predictions(y_test, y_pred_log_reg)"
   ]
  },
  {
   "cell_type": "code",
   "execution_count": 25,
   "metadata": {
    "id": "x5BwO2si-Ptb"
   },
   "outputs": [],
   "source": [
    "report = classification_report(y_test, y_pred_log_reg, output_dict=True)"
   ]
  },
  {
   "cell_type": "code",
   "execution_count": 26,
   "metadata": {
    "id": "HuSZiIJQ-oqw"
   },
   "outputs": [],
   "source": [
    "df_scores = pd.DataFrame(report).transpose().drop(['macro avg', 'weighted avg'])"
   ]
  },
  {
   "cell_type": "code",
   "execution_count": null,
   "metadata": {
    "id": "9XgRlb-d_4eo"
   },
   "outputs": [],
   "source": []
  },
  {
   "cell_type": "code",
   "execution_count": 27,
   "metadata": {
    "colab": {
     "base_uri": "https://localhost:8080/",
     "height": 143
    },
    "id": "VGXTR5-f-65_",
    "outputId": "a1233423-dc5a-46fc-b3d5-fbda9708c71e"
   },
   "outputs": [
    {
     "data": {
      "text/html": [
       "<div>\n",
       "<style scoped>\n",
       "    .dataframe tbody tr th:only-of-type {\n",
       "        vertical-align: middle;\n",
       "    }\n",
       "\n",
       "    .dataframe tbody tr th {\n",
       "        vertical-align: top;\n",
       "    }\n",
       "\n",
       "    .dataframe thead th {\n",
       "        text-align: right;\n",
       "    }\n",
       "</style>\n",
       "<table border=\"1\" class=\"dataframe\">\n",
       "  <thead>\n",
       "    <tr style=\"text-align: right;\">\n",
       "      <th></th>\n",
       "      <th>precision</th>\n",
       "      <th>recall</th>\n",
       "      <th>f1-score</th>\n",
       "      <th>support</th>\n",
       "    </tr>\n",
       "  </thead>\n",
       "  <tbody>\n",
       "    <tr>\n",
       "      <th>canon</th>\n",
       "      <td>0.536765</td>\n",
       "      <td>0.637555</td>\n",
       "      <td>0.582834</td>\n",
       "      <td>229.000000</td>\n",
       "    </tr>\n",
       "    <tr>\n",
       "      <th>non_canon</th>\n",
       "      <td>0.740625</td>\n",
       "      <td>0.652893</td>\n",
       "      <td>0.693997</td>\n",
       "      <td>363.000000</td>\n",
       "    </tr>\n",
       "    <tr>\n",
       "      <th>accuracy</th>\n",
       "      <td>0.646959</td>\n",
       "      <td>0.646959</td>\n",
       "      <td>0.646959</td>\n",
       "      <td>0.646959</td>\n",
       "    </tr>\n",
       "  </tbody>\n",
       "</table>\n",
       "</div>"
      ],
      "text/plain": [
       "           precision    recall  f1-score     support\n",
       "canon       0.536765  0.637555  0.582834  229.000000\n",
       "non_canon   0.740625  0.652893  0.693997  363.000000\n",
       "accuracy    0.646959  0.646959  0.646959    0.646959"
      ]
     },
     "execution_count": 27,
     "metadata": {},
     "output_type": "execute_result"
    }
   ],
   "source": [
    "df_scores\n"
   ]
  },
  {
   "cell_type": "code",
   "execution_count": null,
   "metadata": {
    "id": "_-PuuOHVAbxT"
   },
   "outputs": [],
   "source": []
  },
  {
   "cell_type": "code",
   "execution_count": 28,
   "metadata": {
    "colab": {
     "base_uri": "https://localhost:8080/",
     "height": 178
    },
    "id": "FpumO9uh9HjM",
    "outputId": "de983bd3-ca14-4f18-a719-08ec8b39ea46"
   },
   "outputs": [
    {
     "data": {
      "text/plain": [
       "canon\n",
       "non_canon    0.613176\n",
       "canon        0.386824\n",
       "Name: proportion, dtype: float64"
      ]
     },
     "execution_count": 28,
     "metadata": {},
     "output_type": "execute_result"
    }
   ],
   "source": [
    "y_test.value_counts(normalize=True)"
   ]
  },
  {
   "cell_type": "code",
   "execution_count": 29,
   "metadata": {
    "colab": {
     "base_uri": "https://localhost:8080/"
    },
    "id": "_mNwgb3Zz2-r",
    "outputId": "b759afed-a6a5-4cde-c888-e34442e0fd0d"
   },
   "outputs": [
    {
     "name": "stdout",
     "output_type": "stream",
     "text": [
      "Logistic Regression Accuracy: 0.65\n"
     ]
    }
   ],
   "source": [
    "accuracy_log_reg = accuracy_score(y_test, y_pred_log_reg)\n",
    "print(f\"Logistic Regression Accuracy: {accuracy_log_reg:.2f}\")"
   ]
  },
  {
   "cell_type": "code",
   "execution_count": 30,
   "metadata": {
    "id": "xA5_2puM0zn2"
   },
   "outputs": [],
   "source": [
    "# À vous ! essayer d'optimiser les paramètres"
   ]
  },
  {
   "cell_type": "code",
   "execution_count": null,
   "metadata": {
    "id": "s7JYnKvP0z2D"
   },
   "outputs": [],
   "source": []
  },
  {
   "cell_type": "code",
   "execution_count": null,
   "metadata": {
    "id": "t1dLoiPh00En"
   },
   "outputs": [],
   "source": []
  },
  {
   "cell_type": "code",
   "execution_count": 40,
   "metadata": {
    "id": "TuPi2yJm2Fiq"
   },
   "outputs": [],
   "source": [
    "# Define features and target variable\n",
    "X = df_main.drop('canon', axis=1)\n",
    "y = df_main['canon']"
   ]
  },
  {
   "cell_type": "code",
   "execution_count": 41,
   "metadata": {
    "id": "PHIuonZW2Ihf"
   },
   "outputs": [],
   "source": [
    "from sklearn.model_selection import cross_val_score\n",
    "scores_log_reg = cross_val_score(log_reg, X, y, cv=5)"
   ]
  },
  {
   "cell_type": "code",
   "execution_count": 42,
   "metadata": {
    "colab": {
     "base_uri": "https://localhost:8080/"
    },
    "id": "8h4jIuNC2IRY",
    "outputId": "e49aaa5c-4ae8-46d6-a6a6-39a5f439ad67"
   },
   "outputs": [
    {
     "data": {
      "text/plain": [
       "array([0.60810811, 0.73817568, 0.53378378, 0.61824324, 0.62668919])"
      ]
     },
     "execution_count": 42,
     "metadata": {},
     "output_type": "execute_result"
    }
   ],
   "source": [
    "scores_log_reg"
   ]
  },
  {
   "cell_type": "code",
   "execution_count": null,
   "metadata": {
    "id": "OPhQgmnB2ICp"
   },
   "outputs": [],
   "source": []
  },
  {
   "cell_type": "code",
   "execution_count": 43,
   "metadata": {
    "colab": {
     "base_uri": "https://localhost:8080/"
    },
    "id": "Cz8wFzJD0k8W",
    "outputId": "72ea55a3-1b61-4e88-c13b-4b274a72a21d"
   },
   "outputs": [
    {
     "name": "stdout",
     "output_type": "stream",
     "text": [
      "SVM Accuracy: 0.78\n"
     ]
    }
   ],
   "source": [
    "from sklearn.svm import SVC\n",
    "\n",
    "# Initialize the SVM model\n",
    "svm = SVC(class_weight='balanced')\n",
    "\n",
    "# Train the model\n",
    "svm.fit(X_train, y_train)\n",
    "\n",
    "# Make predictions\n",
    "y_pred_svm = svm.predict(X_test)\n",
    "\n",
    "# Evaluate the model\n",
    "accuracy_svm = accuracy_score(y_test, y_pred_svm)\n",
    "print(f\"SVM Accuracy: {accuracy_svm:.2f}\")"
   ]
  },
  {
   "cell_type": "code",
   "execution_count": 44,
   "metadata": {
    "colab": {
     "base_uri": "https://localhost:8080/",
     "height": 449
    },
    "id": "B65n_o_FBjYa",
    "outputId": "40e5ac84-10ab-42eb-b3d3-ed70ab739072"
   },
   "outputs": [
    {
     "data": {
      "image/png": "[encoded data removed]",
      "text/plain": [
       "<Figure size 640x480 with 2 Axes>"
      ]
     },
     "metadata": {},
     "output_type": "display_data"
    }
   ],
   "source": [
    "_ = ConfusionMatrixDisplay.from_predictions(y_test, y_pred_svm)\n",
    "report = classification_report(y_test, y_pred_svm, output_dict=True)\n",
    "df_scores = pd.DataFrame(report).transpose().drop(['macro avg', 'weighted avg'])"
   ]
  },
  {
   "cell_type": "code",
   "execution_count": 45,
   "metadata": {
    "colab": {
     "base_uri": "https://localhost:8080/",
     "height": 143
    },
    "id": "XZZnpiTQBj2f",
    "outputId": "db512df7-529e-4a04-ffa3-250b8bc4898e"
   },
   "outputs": [
    {
     "data": {
      "text/html": [
       "<div>\n",
       "<style scoped>\n",
       "    .dataframe tbody tr th:only-of-type {\n",
       "        vertical-align: middle;\n",
       "    }\n",
       "\n",
       "    .dataframe tbody tr th {\n",
       "        vertical-align: top;\n",
       "    }\n",
       "\n",
       "    .dataframe thead th {\n",
       "        text-align: right;\n",
       "    }\n",
       "</style>\n",
       "<table border=\"1\" class=\"dataframe\">\n",
       "  <thead>\n",
       "    <tr style=\"text-align: right;\">\n",
       "      <th></th>\n",
       "      <th>precision</th>\n",
       "      <th>recall</th>\n",
       "      <th>f1-score</th>\n",
       "      <th>support</th>\n",
       "    </tr>\n",
       "  </thead>\n",
       "  <tbody>\n",
       "    <tr>\n",
       "      <th>canon</th>\n",
       "      <td>0.704453</td>\n",
       "      <td>0.759825</td>\n",
       "      <td>0.731092</td>\n",
       "      <td>229.000000</td>\n",
       "    </tr>\n",
       "    <tr>\n",
       "      <th>non_canon</th>\n",
       "      <td>0.840580</td>\n",
       "      <td>0.798898</td>\n",
       "      <td>0.819209</td>\n",
       "      <td>363.000000</td>\n",
       "    </tr>\n",
       "    <tr>\n",
       "      <th>accuracy</th>\n",
       "      <td>0.783784</td>\n",
       "      <td>0.783784</td>\n",
       "      <td>0.783784</td>\n",
       "      <td>0.783784</td>\n",
       "    </tr>\n",
       "  </tbody>\n",
       "</table>\n",
       "</div>"
      ],
      "text/plain": [
       "           precision    recall  f1-score     support\n",
       "canon       0.704453  0.759825  0.731092  229.000000\n",
       "non_canon   0.840580  0.798898  0.819209  363.000000\n",
       "accuracy    0.783784  0.783784  0.783784    0.783784"
      ]
     },
     "execution_count": 45,
     "metadata": {},
     "output_type": "execute_result"
    }
   ],
   "source": [
    "df_scores"
   ]
  },
  {
   "cell_type": "code",
   "execution_count": null,
   "metadata": {
    "id": "DIKB44GLBkUS"
   },
   "outputs": [],
   "source": []
  },
  {
   "cell_type": "code",
   "execution_count": 46,
   "metadata": {
    "id": "WBjYx6pl0lJY"
   },
   "outputs": [],
   "source": [
    "scores_svm = cross_val_score(svm, X, y, cv=5)"
   ]
  },
  {
   "cell_type": "code",
   "execution_count": 47,
   "metadata": {
    "colab": {
     "base_uri": "https://localhost:8080/"
    },
    "id": "KamTLWsCUcLG",
    "outputId": "70e6e7d5-7539-4a64-87fd-9c9bbf61db5a"
   },
   "outputs": [
    {
     "data": {
      "text/plain": [
       "array([0.64864865, 0.80405405, 0.69087838, 0.69594595, 0.51351351])"
      ]
     },
     "execution_count": 47,
     "metadata": {},
     "output_type": "execute_result"
    }
   ],
   "source": [
    "scores_svm"
   ]
  },
  {
   "cell_type": "markdown",
   "metadata": {
    "id": "zSXBadpvJjSx"
   },
   "source": [
    "# Datation de corpus"
   ]
  },
  {
   "cell_type": "code",
   "execution_count": null,
   "metadata": {
    "id": "erPrVzVy0ljb"
   },
   "outputs": [],
   "source": [
    "df_dated.drop(['canon'], axis=1, inplace=True)"
   ]
  },
  {
   "cell_type": "code",
   "execution_count": 63,
   "metadata": {
    "colab": {
     "base_uri": "https://localhost:8080/"
    },
    "id": "l1Y9nicGJmp7",
    "outputId": "fad649a2-ffbb-47dc-fb46-2513f19d3309"
   },
   "outputs": [
    {
     "data": {
      "text/plain": [
       "int"
      ]
     },
     "execution_count": 63,
     "metadata": {},
     "output_type": "execute_result"
    }
   ],
   "source": [
    "type(list(df_dated.date)[0])"
   ]
  },
  {
   "cell_type": "code",
   "execution_count": 64,
   "metadata": {
    "id": "QPkDaMPvJ1ha"
   },
   "outputs": [],
   "source": [
    "from sklearn.linear_model import ElasticNet\n",
    "from sklearn.datasets import make_regression"
   ]
  },
  {
   "cell_type": "code",
   "execution_count": 65,
   "metadata": {
    "id": "elMvwfL7N5Fs"
   },
   "outputs": [],
   "source": [
    "from sklearn.linear_model import LinearRegression\n",
    "from sklearn.metrics import mean_absolute_error"
   ]
  },
  {
   "cell_type": "code",
   "execution_count": 66,
   "metadata": {
    "colab": {
     "base_uri": "https://localhost:8080/",
     "height": 874
    },
    "id": "YUshfwXlV32h",
    "outputId": "06a8133b-6a92-4873-a9dc-362c140dd0f9"
   },
   "outputs": [],
   "source": [
    "#df_dated['decade'] = (df_dated['date'].values // 10) * 10\n",
    "#df_dated"
   ]
  },
  {
   "cell_type": "code",
   "execution_count": 67,
   "metadata": {
    "id": "KFczQmQwMd8N"
   },
   "outputs": [],
   "source": [
    "X_train, X_test, y_train, y_test = train_test_split(df_dated.drop('date', axis=1), df_dated['date'], test_size=0.2, random_state=42)"
   ]
  },
  {
   "cell_type": "code",
   "execution_count": 68,
   "metadata": {
    "colab": {
     "base_uri": "https://localhost:8080/",
     "height": 80
    },
    "id": "mknyepc0ME7-",
    "outputId": "47ecb680-d429-426d-c213-2a653faf2299"
   },
   "outputs": [
    {
     "data": {
      "text/html": [
       "<style>#sk-container-id-3 {\n",
       "  /* Definition of color scheme common for light and dark mode */\n",
       "  --sklearn-color-text: #000;\n",
       "  --sklearn-color-text-muted: #666;\n",
       "  --sklearn-color-line: gray;\n",
       "  /* Definition of color scheme for unfitted estimators */\n",
       "  --sklearn-color-unfitted-level-0: #fff5e6;\n",
       "  --sklearn-color-unfitted-level-1: #f6e4d2;\n",
       "  --sklearn-color-unfitted-level-2: #ffe0b3;\n",
       "  --sklearn-color-unfitted-level-3: chocolate;\n",
       "  /* Definition of color scheme for fitted estimators */\n",
       "  --sklearn-color-fitted-level-0: #f0f8ff;\n",
       "  --sklearn-color-fitted-level-1: #d4ebff;\n",
       "  --sklearn-color-fitted-level-2: #b3dbfd;\n",
       "  --sklearn-color-fitted-level-3: cornflowerblue;\n",
       "\n",
       "  /* Specific color for light theme */\n",
       "  --sklearn-color-text-on-default-background: var(--sg-text-color, var(--theme-code-foreground, var(--jp-content-font-color1, black)));\n",
       "  --sklearn-color-background: var(--sg-background-color, var(--theme-background, var(--jp-layout-color0, white)));\n",
       "  --sklearn-color-border-box: var(--sg-text-color, var(--theme-code-foreground, var(--jp-content-font-color1, black)));\n",
       "  --sklearn-color-icon: #696969;\n",
       "\n",
       "  @media (prefers-color-scheme: dark) {\n",
       "    /* Redefinition of color scheme for dark theme */\n",
       "    --sklearn-color-text-on-default-background: var(--sg-text-color, var(--theme-code-foreground, var(--jp-content-font-color1, white)));\n",
       "    --sklearn-color-background: var(--sg-background-color, var(--theme-background, var(--jp-layout-color0, #111)));\n",
       "    --sklearn-color-border-box: var(--sg-text-color, var(--theme-code-foreground, var(--jp-content-font-color1, white)));\n",
       "    --sklearn-color-icon: #878787;\n",
       "  }\n",
       "}\n",
       "\n",
       "#sk-container-id-3 {\n",
       "  color: var(--sklearn-color-text);\n",
       "}\n",
       "\n",
       "#sk-container-id-3 pre {\n",
       "  padding: 0;\n",
       "}\n",
       "\n",
       "#sk-container-id-3 input.sk-hidden--visually {\n",
       "  border: 0;\n",
       "  clip: rect(1px 1px 1px 1px);\n",
       "  clip: rect(1px, 1px, 1px, 1px);\n",
       "  height: 1px;\n",
       "  margin: -1px;\n",
       "  overflow: hidden;\n",
       "  padding: 0;\n",
       "  position: absolute;\n",
       "  width: 1px;\n",
       "}\n",
       "\n",
       "#sk-container-id-3 div.sk-dashed-wrapped {\n",
       "  border: 1px dashed var(--sklearn-color-line);\n",
       "  margin: 0 0.4em 0.5em 0.4em;\n",
       "  box-sizing: border-box;\n",
       "  padding-bottom: 0.4em;\n",
       "  background-color: var(--sklearn-color-background);\n",
       "}\n",
       "\n",
       "#sk-container-id-3 div.sk-container {\n",
       "  /* jupyter's `normalize.less` sets `[hidden] { display: none; }`\n",
       "     but bootstrap.min.css set `[hidden] { display: none !important; }`\n",
       "     so we also need the `!important` here to be able to override the\n",
       "     default hidden behavior on the sphinx rendered scikit-learn.org.\n",
       "     See: https://github.com/scikit-learn/scikit-learn/issues/21755 */\n",
       "  display: inline-block !important;\n",
       "  position: relative;\n",
       "}\n",
       "\n",
       "#sk-container-id-3 div.sk-text-repr-fallback {\n",
       "  display: none;\n",
       "}\n",
       "\n",
       "div.sk-parallel-item,\n",
       "div.sk-serial,\n",
       "div.sk-item {\n",
       "  /* draw centered vertical line to link estimators */\n",
       "  background-image: linear-gradient(var(--sklearn-color-text-on-default-background), var(--sklearn-color-text-on-default-background));\n",
       "  background-size: 2px 100%;\n",
       "  background-repeat: no-repeat;\n",
       "  background-position: center center;\n",
       "}\n",
       "\n",
       "/* Parallel-specific style estimator block */\n",
       "\n",
       "#sk-container-id-3 div.sk-parallel-item::after {\n",
       "  content: \"\";\n",
       "  width: 100%;\n",
       "  border-bottom: 2px solid var(--sklearn-color-text-on-default-background);\n",
       "  flex-grow: 1;\n",
       "}\n",
       "\n",
       "#sk-container-id-3 div.sk-parallel {\n",
       "  display: flex;\n",
       "  align-items: stretch;\n",
       "  justify-content: center;\n",
       "  background-color: var(--sklearn-color-background);\n",
       "  position: relative;\n",
       "}\n",
       "\n",
       "#sk-container-id-3 div.sk-parallel-item {\n",
       "  display: flex;\n",
       "  flex-direction: column;\n",
       "}\n",
       "\n",
       "#sk-container-id-3 div.sk-parallel-item:first-child::after {\n",
       "  align-self: flex-end;\n",
       "  width: 50%;\n",
       "}\n",
       "\n",
       "#sk-container-id-3 div.sk-parallel-item:last-child::after {\n",
       "  align-self: flex-start;\n",
       "  width: 50%;\n",
       "}\n",
       "\n",
       "#sk-container-id-3 div.sk-parallel-item:only-child::after {\n",
       "  width: 0;\n",
       "}\n",
       "\n",
       "/* Serial-specific style estimator block */\n",
       "\n",
       "#sk-container-id-3 div.sk-serial {\n",
       "  display: flex;\n",
       "  flex-direction: column;\n",
       "  align-items: center;\n",
       "  background-color: var(--sklearn-color-background);\n",
       "  padding-right: 1em;\n",
       "  padding-left: 1em;\n",
       "}\n",
       "\n",
       "\n",
       "/* Toggleable style: style used for estimator/Pipeline/ColumnTransformer box that is\n",
       "clickable and can be expanded/collapsed.\n",
       "- Pipeline and ColumnTransformer use this feature and define the default style\n",
       "- Estimators will overwrite some part of the style using the `sk-estimator` class\n",
       "*/\n",
       "\n",
       "/* Pipeline and ColumnTransformer style (default) */\n",
       "\n",
       "#sk-container-id-3 div.sk-toggleable {\n",
       "  /* Default theme specific background. It is overwritten whether we have a\n",
       "  specific estimator or a Pipeline/ColumnTransformer */\n",
       "  background-color: var(--sklearn-color-background);\n",
       "}\n",
       "\n",
       "/* Toggleable label */\n",
       "#sk-container-id-3 label.sk-toggleable__label {\n",
       "  cursor: pointer;\n",
       "  display: flex;\n",
       "  width: 100%;\n",
       "  margin-bottom: 0;\n",
       "  padding: 0.5em;\n",
       "  box-sizing: border-box;\n",
       "  text-align: center;\n",
       "  align-items: start;\n",
       "  justify-content: space-between;\n",
       "  gap: 0.5em;\n",
       "}\n",
       "\n",
       "#sk-container-id-3 label.sk-toggleable__label .caption {\n",
       "  font-size: 0.6rem;\n",
       "  font-weight: lighter;\n",
       "  color: var(--sklearn-color-text-muted);\n",
       "}\n",
       "\n",
       "#sk-container-id-3 label.sk-toggleable__label-arrow:before {\n",
       "  /* Arrow on the left of the label */\n",
       "  content: \"▸\";\n",
       "  float: left;\n",
       "  margin-right: 0.25em;\n",
       "  color: var(--sklearn-color-icon);\n",
       "}\n",
       "\n",
       "#sk-container-id-3 label.sk-toggleable__label-arrow:hover:before {\n",
       "  color: var(--sklearn-color-text);\n",
       "}\n",
       "\n",
       "/* Toggleable content - dropdown */\n",
       "\n",
       "#sk-container-id-3 div.sk-toggleable__content {\n",
       "  max-height: 0;\n",
       "  max-width: 0;\n",
       "  overflow: hidden;\n",
       "  text-align: left;\n",
       "  /* unfitted */\n",
       "  background-color: var(--sklearn-color-unfitted-level-0);\n",
       "}\n",
       "\n",
       "#sk-container-id-3 div.sk-toggleable__content.fitted {\n",
       "  /* fitted */\n",
       "  background-color: var(--sklearn-color-fitted-level-0);\n",
       "}\n",
       "\n",
       "#sk-container-id-3 div.sk-toggleable__content pre {\n",
       "  margin: 0.2em;\n",
       "  border-radius: 0.25em;\n",
       "  color: var(--sklearn-color-text);\n",
       "  /* unfitted */\n",
       "  background-color: var(--sklearn-color-unfitted-level-0);\n",
       "}\n",
       "\n",
       "#sk-container-id-3 div.sk-toggleable__content.fitted pre {\n",
       "  /* unfitted */\n",
       "  background-color: var(--sklearn-color-fitted-level-0);\n",
       "}\n",
       "\n",
       "#sk-container-id-3 input.sk-toggleable__control:checked~div.sk-toggleable__content {\n",
       "  /* Expand drop-down */\n",
       "  max-height: 200px;\n",
       "  max-width: 100%;\n",
       "  overflow: auto;\n",
       "}\n",
       "\n",
       "#sk-container-id-3 input.sk-toggleable__control:checked~label.sk-toggleable__label-arrow:before {\n",
       "  content: \"▾\";\n",
       "}\n",
       "\n",
       "/* Pipeline/ColumnTransformer-specific style */\n",
       "\n",
       "#sk-container-id-3 div.sk-label input.sk-toggleable__control:checked~label.sk-toggleable__label {\n",
       "  color: var(--sklearn-color-text);\n",
       "  background-color: var(--sklearn-color-unfitted-level-2);\n",
       "}\n",
       "\n",
       "#sk-container-id-3 div.sk-label.fitted input.sk-toggleable__control:checked~label.sk-toggleable__label {\n",
       "  background-color: var(--sklearn-color-fitted-level-2);\n",
       "}\n",
       "\n",
       "/* Estimator-specific style */\n",
       "\n",
       "/* Colorize estimator box */\n",
       "#sk-container-id-3 div.sk-estimator input.sk-toggleable__control:checked~label.sk-toggleable__label {\n",
       "  /* unfitted */\n",
       "  background-color: var(--sklearn-color-unfitted-level-2);\n",
       "}\n",
       "\n",
       "#sk-container-id-3 div.sk-estimator.fitted input.sk-toggleable__control:checked~label.sk-toggleable__label {\n",
       "  /* fitted */\n",
       "  background-color: var(--sklearn-color-fitted-level-2);\n",
       "}\n",
       "\n",
       "#sk-container-id-3 div.sk-label label.sk-toggleable__label,\n",
       "#sk-container-id-3 div.sk-label label {\n",
       "  /* The background is the default theme color */\n",
       "  color: var(--sklearn-color-text-on-default-background);\n",
       "}\n",
       "\n",
       "/* On hover, darken the color of the background */\n",
       "#sk-container-id-3 div.sk-label:hover label.sk-toggleable__label {\n",
       "  color: var(--sklearn-color-text);\n",
       "  background-color: var(--sklearn-color-unfitted-level-2);\n",
       "}\n",
       "\n",
       "/* Label box, darken color on hover, fitted */\n",
       "#sk-container-id-3 div.sk-label.fitted:hover label.sk-toggleable__label.fitted {\n",
       "  color: var(--sklearn-color-text);\n",
       "  background-color: var(--sklearn-color-fitted-level-2);\n",
       "}\n",
       "\n",
       "/* Estimator label */\n",
       "\n",
       "#sk-container-id-3 div.sk-label label {\n",
       "  font-family: monospace;\n",
       "  font-weight: bold;\n",
       "  display: inline-block;\n",
       "  line-height: 1.2em;\n",
       "}\n",
       "\n",
       "#sk-container-id-3 div.sk-label-container {\n",
       "  text-align: center;\n",
       "}\n",
       "\n",
       "/* Estimator-specific */\n",
       "#sk-container-id-3 div.sk-estimator {\n",
       "  font-family: monospace;\n",
       "  border: 1px dotted var(--sklearn-color-border-box);\n",
       "  border-radius: 0.25em;\n",
       "  box-sizing: border-box;\n",
       "  margin-bottom: 0.5em;\n",
       "  /* unfitted */\n",
       "  background-color: var(--sklearn-color-unfitted-level-0);\n",
       "}\n",
       "\n",
       "#sk-container-id-3 div.sk-estimator.fitted {\n",
       "  /* fitted */\n",
       "  background-color: var(--sklearn-color-fitted-level-0);\n",
       "}\n",
       "\n",
       "/* on hover */\n",
       "#sk-container-id-3 div.sk-estimator:hover {\n",
       "  /* unfitted */\n",
       "  background-color: var(--sklearn-color-unfitted-level-2);\n",
       "}\n",
       "\n",
       "#sk-container-id-3 div.sk-estimator.fitted:hover {\n",
       "  /* fitted */\n",
       "  background-color: var(--sklearn-color-fitted-level-2);\n",
       "}\n",
       "\n",
       "/* Specification for estimator info (e.g. \"i\" and \"?\") */\n",
       "\n",
       "/* Common style for \"i\" and \"?\" */\n",
       "\n",
       ".sk-estimator-doc-link,\n",
       "a:link.sk-estimator-doc-link,\n",
       "a:visited.sk-estimator-doc-link {\n",
       "  float: right;\n",
       "  font-size: smaller;\n",
       "  line-height: 1em;\n",
       "  font-family: monospace;\n",
       "  background-color: var(--sklearn-color-background);\n",
       "  border-radius: 1em;\n",
       "  height: 1em;\n",
       "  width: 1em;\n",
       "  text-decoration: none !important;\n",
       "  margin-left: 0.5em;\n",
       "  text-align: center;\n",
       "  /* unfitted */\n",
       "  border: var(--sklearn-color-unfitted-level-1) 1pt solid;\n",
       "  color: var(--sklearn-color-unfitted-level-1);\n",
       "}\n",
       "\n",
       ".sk-estimator-doc-link.fitted,\n",
       "a:link.sk-estimator-doc-link.fitted,\n",
       "a:visited.sk-estimator-doc-link.fitted {\n",
       "  /* fitted */\n",
       "  border: var(--sklearn-color-fitted-level-1) 1pt solid;\n",
       "  color: var(--sklearn-color-fitted-level-1);\n",
       "}\n",
       "\n",
       "/* On hover */\n",
       "div.sk-estimator:hover .sk-estimator-doc-link:hover,\n",
       ".sk-estimator-doc-link:hover,\n",
       "div.sk-label-container:hover .sk-estimator-doc-link:hover,\n",
       ".sk-estimator-doc-link:hover {\n",
       "  /* unfitted */\n",
       "  background-color: var(--sklearn-color-unfitted-level-3);\n",
       "  color: var(--sklearn-color-background);\n",
       "  text-decoration: none;\n",
       "}\n",
       "\n",
       "div.sk-estimator.fitted:hover .sk-estimator-doc-link.fitted:hover,\n",
       ".sk-estimator-doc-link.fitted:hover,\n",
       "div.sk-label-container:hover .sk-estimator-doc-link.fitted:hover,\n",
       ".sk-estimator-doc-link.fitted:hover {\n",
       "  /* fitted */\n",
       "  background-color: var(--sklearn-color-fitted-level-3);\n",
       "  color: var(--sklearn-color-background);\n",
       "  text-decoration: none;\n",
       "}\n",
       "\n",
       "/* Span, style for the box shown on hovering the info icon */\n",
       ".sk-estimator-doc-link span {\n",
       "  display: none;\n",
       "  z-index: 9999;\n",
       "  position: relative;\n",
       "  font-weight: normal;\n",
       "  right: .2ex;\n",
       "  padding: .5ex;\n",
       "  margin: .5ex;\n",
       "  width: min-content;\n",
       "  min-width: 20ex;\n",
       "  max-width: 50ex;\n",
       "  color: var(--sklearn-color-text);\n",
       "  box-shadow: 2pt 2pt 4pt #999;\n",
       "  /* unfitted */\n",
       "  background: var(--sklearn-color-unfitted-level-0);\n",
       "  border: .5pt solid var(--sklearn-color-unfitted-level-3);\n",
       "}\n",
       "\n",
       ".sk-estimator-doc-link.fitted span {\n",
       "  /* fitted */\n",
       "  background: var(--sklearn-color-fitted-level-0);\n",
       "  border: var(--sklearn-color-fitted-level-3);\n",
       "}\n",
       "\n",
       ".sk-estimator-doc-link:hover span {\n",
       "  display: block;\n",
       "}\n",
       "\n",
       "/* \"?\"-specific style due to the `<a>` HTML tag */\n",
       "\n",
       "#sk-container-id-3 a.estimator_doc_link {\n",
       "  float: right;\n",
       "  font-size: 1rem;\n",
       "  line-height: 1em;\n",
       "  font-family: monospace;\n",
       "  background-color: var(--sklearn-color-background);\n",
       "  border-radius: 1rem;\n",
       "  height: 1rem;\n",
       "  width: 1rem;\n",
       "  text-decoration: none;\n",
       "  /* unfitted */\n",
       "  color: var(--sklearn-color-unfitted-level-1);\n",
       "  border: var(--sklearn-color-unfitted-level-1) 1pt solid;\n",
       "}\n",
       "\n",
       "#sk-container-id-3 a.estimator_doc_link.fitted {\n",
       "  /* fitted */\n",
       "  border: var(--sklearn-color-fitted-level-1) 1pt solid;\n",
       "  color: var(--sklearn-color-fitted-level-1);\n",
       "}\n",
       "\n",
       "/* On hover */\n",
       "#sk-container-id-3 a.estimator_doc_link:hover {\n",
       "  /* unfitted */\n",
       "  background-color: var(--sklearn-color-unfitted-level-3);\n",
       "  color: var(--sklearn-color-background);\n",
       "  text-decoration: none;\n",
       "}\n",
       "\n",
       "#sk-container-id-3 a.estimator_doc_link.fitted:hover {\n",
       "  /* fitted */\n",
       "  background-color: var(--sklearn-color-fitted-level-3);\n",
       "}\n",
       "</style><div id=\"sk-container-id-3\" class=\"sk-top-container\"><div class=\"sk-text-repr-fallback\"><pre>LinearRegression()</pre><b>In a Jupyter environment, please rerun this cell to show the HTML representation or trust the notebook. <br />On GitHub, the HTML representation is unable to render, please try loading this page with nbviewer.org.</b></div><div class=\"sk-container\" hidden><div class=\"sk-item\"><div class=\"sk-estimator fitted sk-toggleable\"><input class=\"sk-toggleable__control sk-hidden--visually\" id=\"sk-estimator-id-3\" type=\"checkbox\" checked><label for=\"sk-estimator-id-3\" class=\"sk-toggleable__label fitted sk-toggleable__label-arrow\"><div><div>LinearRegression</div></div><div><a class=\"sk-estimator-doc-link fitted\" rel=\"noreferrer\" target=\"_blank\" href=\"https://scikit-learn.org/1.6/modules/generated/sklearn.linear_model.LinearRegression.html\">?<span>Documentation for LinearRegression</span></a><span class=\"sk-estimator-doc-link fitted\">i<span>Fitted</span></span></div></label><div class=\"sk-toggleable__content fitted\"><pre>LinearRegression()</pre></div> </div></div></div></div>"
      ],
      "text/plain": [
       "LinearRegression()"
      ]
     },
     "execution_count": 68,
     "metadata": {},
     "output_type": "execute_result"
    }
   ],
   "source": [
    "regr = LinearRegression()\n",
    "regr.fit(X_train, y_train)"
   ]
  },
  {
   "cell_type": "code",
   "execution_count": 69,
   "metadata": {
    "colab": {
     "base_uri": "https://localhost:8080/",
     "height": 490
    },
    "id": "mY-UwB6UNjNy",
    "outputId": "b1c3741c-8ff8-4982-8064-2dfb51176e64"
   },
   "outputs": [
    {
     "data": {
      "text/plain": [
       "index\n",
       "2014_Mathieu-Nicolas_Aux-animaux-la-guerre         2014\n",
       "1863_Capendu-Ernest_Marcof-Le-Malouin              1863\n",
       "1902_Laurie-Andre_Memoires-d-un-collegien-russe    1902\n",
       "1925_Genevoix-Maurice_Raboliot                     1925\n",
       "2019_Murail-Marie-Aude_Sauveur-Fils_5              2019\n",
       "                                                   ... \n",
       "1908_Veuzit-Max-du_Le-mystere-de-Malbackt          1908\n",
       "1882_Fleuriot-Zenaide_Bouche-en-coeur              1882\n",
       "1883_Monnier-Marc_Un-detraque                      1883\n",
       "1888_Mirbeau-Octave_L-Abbe-Jules                   1888\n",
       "1876_Feuillet-Octave_Histoire-de-Sibylle           1876\n",
       "Name: date, Length: 2368, dtype: int64"
      ]
     },
     "execution_count": 69,
     "metadata": {},
     "output_type": "execute_result"
    }
   ],
   "source": [
    "y_train"
   ]
  },
  {
   "cell_type": "code",
   "execution_count": 70,
   "metadata": {
    "id": "6AyPKulfM4k-"
   },
   "outputs": [],
   "source": [
    "predicted_year = regr.predict(X_test)"
   ]
  },
  {
   "cell_type": "code",
   "execution_count": 71,
   "metadata": {
    "colab": {
     "base_uri": "https://localhost:8080/"
    },
    "id": "q0ybJTYWM5MM",
    "outputId": "fb69ab0a-11fc-40cd-e5bd-446eb5b8b4e3"
   },
   "outputs": [
    {
     "data": {
      "text/plain": [
       "14.170315549747999"
      ]
     },
     "execution_count": 71,
     "metadata": {},
     "output_type": "execute_result"
    }
   ],
   "source": [
    "mean_absolute_error(y_test, predicted_year)"
   ]
  },
  {
   "cell_type": "code",
   "execution_count": 72,
   "metadata": {
    "id": "nUka5jkaM52J"
   },
   "outputs": [],
   "source": [
    "df_plot = pd.DataFrame({'predicted_year': predicted_year, 'real_year': y_test})"
   ]
  },
  {
   "cell_type": "code",
   "execution_count": 73,
   "metadata": {
    "id": "s1wTrxXQMO_2"
   },
   "outputs": [],
   "source": [
    "import seaborn as sns"
   ]
  },
  {
   "cell_type": "code",
   "execution_count": 74,
   "metadata": {
    "colab": {
     "base_uri": "https://localhost:8080/",
     "height": 468
    },
    "id": "92pp-6KBG2Az",
    "outputId": "98154569-e52f-4d2c-c0dc-a37328c9f334"
   },
   "outputs": [
    {
     "data": {
      "text/plain": [
       "<Axes: xlabel='real_year', ylabel='predicted_year'>"
      ]
     },
     "execution_count": 74,
     "metadata": {},
     "output_type": "execute_result"
    },
    {
     "data": {
      "image/png": "[encoded data removed]",
      "text/plain": [
       "<Figure size 640x480 with 1 Axes>"
      ]
     },
     "metadata": {},
     "output_type": "display_data"
    }
   ],
   "source": [
    "sns.scatterplot(data=df_plot, x='real_year', y='predicted_year')\n",
    "sns.lineplot(data=df_plot, x='real_year', y='real_year', color='red')"
   ]
  },
  {
   "cell_type": "code",
   "execution_count": 75,
   "metadata": {
    "id": "a2BFT_5HRtz4"
   },
   "outputs": [],
   "source": [
    "df_plot['annees_erreur'] = abs(df_plot['real_year'] - df_plot['predicted_year'])"
   ]
  },
  {
   "cell_type": "code",
   "execution_count": 76,
   "metadata": {
    "id": "A0MqLmvOShIT"
   },
   "outputs": [],
   "source": [
    "df_plot['decade'] = (df_plot['real_year'].values // 10) * 10"
   ]
  },
  {
   "cell_type": "code",
   "execution_count": 77,
   "metadata": {
    "colab": {
     "base_uri": "https://localhost:8080/",
     "height": 1000
    },
    "id": "W3M9xQK7HAki",
    "outputId": "4db99f14-0314-4c80-933f-c2fe2b17464a"
   },
   "outputs": [
    {
     "data": {
      "text/plain": [
       "([0,\n",
       "  1,\n",
       "  2,\n",
       "  3,\n",
       "  4,\n",
       "  5,\n",
       "  6,\n",
       "  7,\n",
       "  8,\n",
       "  9,\n",
       "  10,\n",
       "  11,\n",
       "  12,\n",
       "  13,\n",
       "  14,\n",
       "  15,\n",
       "  16,\n",
       "  17,\n",
       "  18,\n",
       "  19,\n",
       "  20,\n",
       "  21],\n",
       " [Text(0, 0, '1810'),\n",
       "  Text(1, 0, '1820'),\n",
       "  Text(2, 0, '1830'),\n",
       "  Text(3, 0, '1840'),\n",
       "  Text(4, 0, '1850'),\n",
       "  Text(5, 0, '1860'),\n",
       "  Text(6, 0, '1870'),\n",
       "  Text(7, 0, '1880'),\n",
       "  Text(8, 0, '1890'),\n",
       "  Text(9, 0, '1900'),\n",
       "  Text(10, 0, '1910'),\n",
       "  Text(11, 0, '1920'),\n",
       "  Text(12, 0, '1930'),\n",
       "  Text(13, 0, '1940'),\n",
       "  Text(14, 0, '1950'),\n",
       "  Text(15, 0, '1960'),\n",
       "  Text(16, 0, '1970'),\n",
       "  Text(17, 0, '1980'),\n",
       "  Text(18, 0, '1990'),\n",
       "  Text(19, 0, '2000'),\n",
       "  Text(20, 0, '2010'),\n",
       "  Text(21, 0, '2020')])"
      ]
     },
     "execution_count": 77,
     "metadata": {},
     "output_type": "execute_result"
    },
    {
     "data": {
      "image/png": "[encoded data removed]",
      "text/plain": [
       "<Figure size 3000x1500 with 1 Axes>"
      ]
     },
     "metadata": {},
     "output_type": "display_data"
    }
   ],
   "source": [
    "ax, fig = plt.subplots(figsize=(30,15))\n",
    "sns.barplot(data=df_plot, x='decade', y='annees_erreur')\n",
    "plt.xticks(rotation = 90)"
   ]
  },
  {
   "cell_type": "code",
   "execution_count": null,
   "metadata": {
    "id": "Vv2m-AeOSHaX"
   },
   "outputs": [],
   "source": []
  },
  {
   "cell_type": "code",
   "execution_count": null,
   "metadata": {
    "id": "v6lV7CpVSGrx"
   },
   "outputs": [],
   "source": []
  }
 ],
 "metadata": {
  "colab": {
   "provenance": []
  },
  "kernelspec": {
   "display_name": "Python (.dev_cours_python)",
   "language": "python",
   "name": ".dev_cours_python"
  },
  "language_info": {
   "codemirror_mode": {
    "name": "ipython",
    "version": 3
   },
   "file_extension": ".py",
   "mimetype": "text/x-python",
   "name": "python",
   "nbconvert_exporter": "python",
   "pygments_lexer": "ipython3",
   "version": "3.12.3"
  }
 },
 "nbformat": 4,
 "nbformat_minor": 4
}
