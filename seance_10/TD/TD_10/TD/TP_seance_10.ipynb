{
 "cells": [
  {
   "cell_type": "markdown",
   "id": "01f892ab-e2f0-4383-8695-c60aa7eecf69",
   "metadata": {},
   "source": [
    "# Exercice : Analyse des textes et des personnages\n",
    "\n",
    "## Contexte\n",
    "\n",
    "Vous disposez de deux types de fichiers issus de 10 romans différents :\n",
    "- **5 fichiers `.txt`** : Chaque fichier contient le texte complet d'un roman.\n",
    "- **5 fichiers `.book`** : Ces fichiers contiennent des informations sur les personnages détectés dans les romans, incluant leur genre, le nombre de mentions, ainsi que les verbes associés (\"agent\", \"patients\", \"mod\"). Pour cet exercice, vous vous limiterez aux **5 personnages les plus importants** de chaque roman.\n",
    "\n",
    "## Objectifs\n",
    "\n",
    "L’exercice se décompose en plusieurs étapes :\n",
    "1. **Extraction des 100 mots les plus fréquents**\n",
    "   - Construire une liste contenant les 100 mots les plus fréquents des personnages, tout roman confondu (on peut se limiter aux 5 premiers personnages par roman).\n",
    "\n",
    "2. **Extraction d’un Bag of Words (BoW) pour chaque roman**\n",
    "   - Extraire la fréquence relative des **100 mots les plus fréquents** récupérés en étape #1\n",
    "   - Construire un DataFrame représentant le BoW pour tous les romans.\n",
    "   - Sauvegarder ce DataFrame sous le nom `BoW_100_romans.csv`.\n",
    "\n",
    "3. **Extraction d’un Bag of Words pour les personnages**\n",
    "   - Pour chaque roman, extraire le BoW (basé sur les mêmes 100 mots) pour chacun des 5 personnages les plus importants.\n",
    "   - Construire un DataFrame regroupant ces informations.\n",
    "   - Sauvegarder ce DataFrame sous le nom `BoW_100_personnages.csv`.\n",
    "\n",
    "3. **Calcul des distances entre les BoW**\n",
    "   - Calculer la **distance cosinus** entre le BoW du roman et celui de chacun de ses personnages.\n",
    "   - Pour chaque roman, identifier le personnage dont le BoW est le plus proche de celui du roman (c’est-à-dire, le personnage le plus représentatif).\n",
    "\n",
    "4. **Visualisation**\n",
    "   - Créer une **heatmap** (à l’aide de seaborn ou matplotlib) pour visualiser les distances cosinus entre le BoW de chaque roman et les BoW de ses personnages.\n",
    "\n",
    "5. **Bonus : Classification du genre du roman**\n",
    "   - Implémenter un classifieur (par exemple, une régression logistique) capable de prédire le genre du roman (policier ou sentimental) à partir de son BoW.\n",
    "   - Réfléchir à la pertinence de ce modèle lorsqu’il est appliqué aux BoW des personnages : Le classifieur fonctionne-t-il de la même manière pour les BoW de personnages que pour ceux des romans complets ?\n",
    "\n",
    "## Consignes supplémentaires\n",
    "\n",
    "- **Langue** : Tous les codes, commentaires et explications doivent être rédigés en français.\n",
    "- **Structuration du Notebook** : Le notebook doit comporter une structure claire et commentée, expliquant chaque étape du processus (chargement des données, traitement, calcul, visualisation, etc.).\n",
    "- **Reproductibilité** : Le code doit être suffisamment générique pour fonctionner avec l’ensemble des fichiers fournis, sans nécessiter de modifications manuelles importantes.\n",
    "- **Documentation** : Chaque fonction doit être documentée par des commentaires ou des docstrings expliquant son rôle et ses paramètres.\n",
    "\n",
    "Bonne chance et n’hésitez pas à commenter votre notebook pour faciliter la compréhension de votre démarche !\n"
   ]
  },
  {
   "cell_type": "code",
   "execution_count": null,
   "id": "0b241061-b40a-45db-b7ff-0789f41bac0c",
   "metadata": {},
   "outputs": [],
   "source": []
  }
 ],
 "metadata": {
  "kernelspec": {
   "display_name": "Python (.tall)",
   "language": "python",
   "name": ".tall"
  },
  "language_info": {
   "codemirror_mode": {
    "name": "ipython",
    "version": 3
   },
   "file_extension": ".py",
   "mimetype": "text/x-python",
   "name": "python",
   "nbconvert_exporter": "python",
   "pygments_lexer": "ipython3",
   "version": "3.12.3"
  }
 },
 "nbformat": 4,
 "nbformat_minor": 5
}
